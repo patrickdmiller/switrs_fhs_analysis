{
 "cells": [
  {
   "cell_type": "code",
   "execution_count": 48,
   "metadata": {},
   "outputs": [
    {
     "name": "stdout",
     "output_type": "stream",
     "text": [
      "importing Jupyter notebook from switrs_data.ipynb\n"
     ]
    }
   ],
   "source": [
    "import import_ipynb\n",
    "import importlib\n",
    "import switrs_data\n",
    "from switrs_data import SwitrsData\n",
    "importlib.reload(switrs_data)\n",
    "switrsdata = SwitrsData()"
   ]
  },
  {
   "cell_type": "code",
   "execution_count": 44,
   "metadata": {},
   "outputs": [
    {
     "name": "stdout",
     "output_type": "stream",
     "text": [
      "Requirement already satisfied: scikit-learn-intelex in /usr/local/lib/python3.8/dist-packages (2021.6.3)\n",
      "Requirement already satisfied: daal4py==2021.6.3 in /usr/local/lib/python3.8/dist-packages (from scikit-learn-intelex) (2021.6.3)\n",
      "Requirement already satisfied: scikit-learn>=0.22 in /usr/local/lib/python3.8/dist-packages (from scikit-learn-intelex) (1.1.2)\n",
      "Requirement already satisfied: numpy>=1.15 in /usr/local/lib/python3.8/dist-packages (from daal4py==2021.6.3->scikit-learn-intelex) (1.22.1)\n",
      "Requirement already satisfied: daal==2021.6.0 in /usr/local/lib/python3.8/dist-packages (from daal4py==2021.6.3->scikit-learn-intelex) (2021.6.0)\n",
      "Requirement already satisfied: threadpoolctl>=2.0.0 in /usr/local/lib/python3.8/dist-packages (from scikit-learn>=0.22->scikit-learn-intelex) (3.1.0)\n",
      "Requirement already satisfied: joblib>=1.0.0 in /usr/local/lib/python3.8/dist-packages (from scikit-learn>=0.22->scikit-learn-intelex) (1.1.0)\n",
      "Requirement already satisfied: scipy>=1.3.2 in /usr/local/lib/python3.8/dist-packages (from scikit-learn>=0.22->scikit-learn-intelex) (1.8.0)\n",
      "Requirement already satisfied: tbb==2021.* in /usr/local/lib/python3.8/dist-packages (from daal==2021.6.0->daal4py==2021.6.3->scikit-learn-intelex) (2021.7.0)\n",
      "\u001b[33mWARNING: You are using pip version 20.2.4; however, version 22.2.2 is available.\n",
      "You should consider upgrading via the '/usr/bin/python3 -m pip install --upgrade pip' command.\u001b[0m\n"
     ]
    }
   ],
   "source": [
    "!pip install scikit-learn-intelex"
   ]
  },
  {
   "cell_type": "code",
   "execution_count": 49,
   "metadata": {},
   "outputs": [
    {
     "name": "stderr",
     "output_type": "stream",
     "text": [
      "Intel(R) Extension for Scikit-learn* enabled (https://github.com/intel/scikit-learn-intelex)\n"
     ]
    }
   ],
   "source": [
    "\n",
    "from sklearnex import patch_sklearn \n",
    "patch_sklearn()\n",
    "import pandas as pd\n",
    "import seaborn as sns\n",
    "import numpy as np\n",
    "import matplotlib.pyplot as plt\n",
    "from sklearn.model_selection import train_test_split, cross_val_score\n",
    "from sklearn import metrics\n",
    "from sklearn import tree\n",
    "from sklearn.preprocessing import OneHotEncoder\n",
    "from time import perf_counter\n",
    "from sklearn.model_selection import StratifiedKFold, learning_curve\n",
    "%matplotlib inline\n"
   ]
  },
  {
   "cell_type": "code",
   "execution_count": 50,
   "metadata": {},
   "outputs": [],
   "source": [
    "'''\n",
    "      _           _     _               _______                 \n",
    "     | |         (_)   (_)             |__   __|                \n",
    "   __| | ___  ___ _ ___ _  ___  _ __      | |_ __ ___  ___  ___ \n",
    "  / _` |/ _ \\/ __| / __| |/ _ \\| '_ \\     | | '__/ _ \\/ _ \\/ __|\n",
    " | (_| |  __/ (__| \\__ \\ | (_) | | | |    | | | |  __/  __/\\__ \\\n",
    "  \\__,_|\\___|\\___|_|___/_|\\___/|_| |_|    |_|_|  \\___|\\___||___/\n",
    "                                                                \n",
    "'''\n",
    "from sklearn.tree import DecisionTreeClassifier\n"
   ]
  },
  {
   "cell_type": "code",
   "execution_count": 51,
   "metadata": {},
   "outputs": [],
   "source": [
    "def best_score(scores, SCORE_TYPE):\n",
    "    best = {key: {\"label\":\"\", \"score\":0} for key in SCORE_TYPE}\n",
    "    \n",
    "    \n",
    "    for i in range(len(scores)):\n",
    "        for s in SCORE_TYPE:\n",
    "            if scores[i]['scores'][s] > best[s][\"score\"]:\n",
    "                best[s][\"label\"] = scores[i]['label']\n",
    "                best[s][\"score\"] = scores[i]['scores'][s]\n",
    "    return best\n",
    "        "
   ]
  },
  {
   "cell_type": "code",
   "execution_count": 52,
   "metadata": {},
   "outputs": [
    {
     "name": "stdout",
     "output_type": "stream",
     "text": [
      "Index(['weather', 'state_highway_indicator', 'type_of_collision',\n",
      "       'road_condition', 'lighting', 'motorcycle_collision',\n",
      "       'bicycle_collision', 'pedestrian_collision', 'alcohol_involved',\n",
      "       'severe_injury_count', 'killed_victims', 'pedestrian_killed_count',\n",
      "       'motorcyclist_killed_count', 'bicyclist_killed_count',\n",
      "       'pcf_violation_category', 'collision_date'],\n",
      "      dtype='object')\n",
      "Loading 482296 rows\n",
      "split: Train:  337607 337607 Test:  144689 144689\n",
      "after resample\n",
      "split: Train:  24452 24452 Test:  24452 24452\n"
     ]
    }
   ],
   "source": [
    "X_train, y_train, X_test, y_test = switrsdata.load(undersample=True, verbose=True, year=2018)\n"
   ]
  },
  {
   "cell_type": "code",
   "execution_count": 54,
   "metadata": {},
   "outputs": [],
   "source": [
    "#first create decision tree with varying depth\n",
    "SCORE_TYPE = [\"accuracy\", \"f1\",]\n",
    "scores = []\n",
    "for i in range(1,40):\n",
    "    clf = DecisionTreeClassifier(\n",
    "        random_state=42,\n",
    "        max_depth = i,\n",
    "        criterion=\"entropy\"\n",
    "    )\n",
    "    scores.append({\n",
    "        \"label\":f'max_depth_{i}',\n",
    "        \"scores\":{},\n",
    "        \"times\":{}\n",
    "    })\n",
    "    for s in SCORE_TYPE:\n",
    "        t = perf_counter()\n",
    "        scores[-1][\"scores\"][s] = sum(cross_val_score(clf, X_train, y_train,scoring=s, cv=6, n_jobs=6))/6\n",
    "        scores[-1][\"times\"][s] = perf_counter() - t\n"
   ]
  },
  {
   "cell_type": "code",
   "execution_count": 55,
   "metadata": {},
   "outputs": [
    {
     "name": "stdout",
     "output_type": "stream",
     "text": [
      "{'accuracy': {'label': 'max_depth_12', 'score': 0.7852931820964054}, 'f1': {'label': 'max_depth_14', 'score': 0.7691345773480368}}\n"
     ]
    },
    {
     "data": {
      "text/plain": [
       "[{'label': 'max_depth_1',\n",
       "  'scores': {'accuracy': 0.6009322363839603, 'f1': 0.3358919067233812},\n",
       "  'times': {'accuracy': 1.2966932710260153, 'f1': 0.1374383110087365}},\n",
       " {'label': 'max_depth_2',\n",
       "  'scores': {'accuracy': 0.6791672536730545, 'f1': 0.5472310651513747},\n",
       "  'times': {'accuracy': 0.1381630749674514, 'f1': 0.13597670407034457}},\n",
       " {'label': 'max_depth_3',\n",
       "  'scores': {'accuracy': 0.7306968317709933, 'f1': 0.6570078804792767},\n",
       "  'times': {'accuracy': 0.1381890440825373, 'f1': 0.13484745903406292}},\n",
       " {'label': 'max_depth_4',\n",
       "  'scores': {'accuracy': 0.7575246893883293, 'f1': 0.7231833280423118},\n",
       "  'times': {'accuracy': 0.14447774994187057, 'f1': 0.15722084103617817}},\n",
       " {'label': 'max_depth_5',\n",
       "  'scores': {'accuracy': 0.7755188935782504, 'f1': 0.7544824611947961},\n",
       "  'times': {'accuracy': 0.164287130930461, 'f1': 0.15785368101205677}},\n",
       " {'label': 'max_depth_6',\n",
       "  'scores': {'accuracy': 0.7753144548065287, 'f1': 0.7516887244055278},\n",
       "  'times': {'accuracy': 0.1701433879788965, 'f1': 0.1624825089238584}},\n",
       " {'label': 'max_depth_7',\n",
       "  'scores': {'accuracy': 0.7783817688860525, 'f1': 0.7528308697624966},\n",
       "  'times': {'accuracy': 0.1674851740244776, 'f1': 0.16868686699308455}},\n",
       " {'label': 'max_depth_8',\n",
       "  'scores': {'accuracy': 0.780017650328824, 'f1': 0.7569131837708185},\n",
       "  'times': {'accuracy': 0.16378827800508589, 'f1': 0.17243588098790497}},\n",
       " {'label': 'max_depth_9',\n",
       "  'scores': {'accuracy': 0.7838210102129078, 'f1': 0.7651212234870665},\n",
       "  'times': {'accuracy': 0.19538140296936035, 'f1': 0.17242658603936434}},\n",
       " {'label': 'max_depth_10',\n",
       "  'scores': {'accuracy': 0.7840251479557127, 'f1': 0.766620812618933},\n",
       "  'times': {'accuracy': 0.18397661100607365, 'f1': 0.19443868997041136}},\n",
       " {'label': 'max_depth_11',\n",
       "  'scores': {'accuracy': 0.7847204143763383, 'f1': 0.7685175364639617},\n",
       "  'times': {'accuracy': 0.19243649498093873, 'f1': 0.19498275395017117}},\n",
       " {'label': 'max_depth_12',\n",
       "  'scores': {'accuracy': 0.7852931820964054, 'f1': 0.7680741647836028},\n",
       "  'times': {'accuracy': 0.19691044196952134, 'f1': 0.19427203002851456}},\n",
       " {'label': 'max_depth_13',\n",
       "  'scores': {'accuracy': 0.7843525470056654, 'f1': 0.7686437410779107},\n",
       "  'times': {'accuracy': 0.2036961039993912, 'f1': 0.20753174903802574}},\n",
       " {'label': 'max_depth_14',\n",
       "  'scores': {'accuracy': 0.7827167659058661, 'f1': 0.7691345773480368},\n",
       "  'times': {'accuracy': 0.20928597601596266, 'f1': 0.21895157091785222}},\n",
       " {'label': 'max_depth_15',\n",
       "  'scores': {'accuracy': 0.7818987699958458, 'f1': 0.769053112916613},\n",
       "  'times': {'accuracy': 0.22433740296401083, 'f1': 0.22517551702912897}},\n",
       " {'label': 'max_depth_16',\n",
       "  'scores': {'accuracy': 0.782184847809814, 'f1': 0.768380111695981},\n",
       "  'times': {'accuracy': 0.21863812499213964, 'f1': 0.21106582903303206}},\n",
       " {'label': 'max_depth_17',\n",
       "  'scores': {'accuracy': 0.782021338936485, 'f1': 0.7681231501307667},\n",
       "  'times': {'accuracy': 0.20714639697689563, 'f1': 0.2375759780406952}},\n",
       " {'label': 'max_depth_18',\n",
       "  'scores': {'accuracy': 0.7809579643220528, 'f1': 0.7669057461883627},\n",
       "  'times': {'accuracy': 0.21539153601042926, 'f1': 0.2245729819405824}},\n",
       " {'label': 'max_depth_19',\n",
       "  'scores': {'accuracy': 0.7793630529148629, 'f1': 0.7649999128857689},\n",
       "  'times': {'accuracy': 0.2219629870960489, 'f1': 0.2185878009768203}},\n",
       " {'label': 'max_depth_20',\n",
       "  'scores': {'accuracy': 0.7787903755034709, 'f1': 0.764413346822716},\n",
       "  'times': {'accuracy': 0.22007259202655405, 'f1': 0.2277466650120914}},\n",
       " {'label': 'max_depth_21',\n",
       "  'scores': {'accuracy': 0.7784632574138405, 'f1': 0.7635202163389191},\n",
       "  'times': {'accuracy': 0.2241014619357884, 'f1': 0.22405941993929446}},\n",
       " {'label': 'max_depth_22',\n",
       "  'scores': {'accuracy': 0.7771546345408606, 'f1': 0.7625319026191643},\n",
       "  'times': {'accuracy': 0.21765203203540295, 'f1': 0.2405057509895414}},\n",
       " {'label': 'max_depth_23',\n",
       "  'scores': {'accuracy': 0.7777681415076733, 'f1': 0.7636182371936934},\n",
       "  'times': {'accuracy': 0.2309235790744424, 'f1': 0.23195580602623522}},\n",
       " {'label': 'max_depth_24',\n",
       "  'scores': {'accuracy': 0.7762142302389567, 'f1': 0.7623365187986698},\n",
       "  'times': {'accuracy': 0.22268360201269388, 'f1': 0.2385130850598216}},\n",
       " {'label': 'max_depth_25',\n",
       "  'scores': {'accuracy': 0.7759278814989635, 'f1': 0.7623438033756379},\n",
       "  'times': {'accuracy': 0.23153561307117343, 'f1': 0.23572749900631607}},\n",
       " {'label': 'max_depth_26',\n",
       "  'scores': {'accuracy': 0.7763368593853793, 'f1': 0.7633256575804189},\n",
       "  'times': {'accuracy': 0.23839494702406228, 'f1': 0.22153072897344828}},\n",
       " {'label': 'max_depth_27',\n",
       "  'scores': {'accuracy': 0.776050470508197, 'f1': 0.7631306512304331},\n",
       "  'times': {'accuracy': 0.22950243798550218, 'f1': 0.23365907499101013}},\n",
       " {'label': 'max_depth_28',\n",
       "  'scores': {'accuracy': 0.7755598736481293, 'f1': 0.7611484525717168},\n",
       "  'times': {'accuracy': 0.23267823504284024, 'f1': 0.23676212795544416}},\n",
       " {'label': 'max_depth_29',\n",
       "  'scores': {'accuracy': 0.7752326752841211, 'f1': 0.7616713988428997},\n",
       "  'times': {'accuracy': 0.2361495930235833, 'f1': 0.24582983297295868}},\n",
       " {'label': 'max_depth_30',\n",
       "  'scores': {'accuracy': 0.7757643726256344, 'f1': 0.7615074650495773},\n",
       "  'times': {'accuracy': 0.2248007960151881, 'f1': 0.22193809400778264}},\n",
       " {'label': 'max_depth_31',\n",
       "  'scores': {'accuracy': 0.7760097713986406, 'f1': 0.762015239053833},\n",
       "  'times': {'accuracy': 0.2278442420065403, 'f1': 0.25024795602075756}},\n",
       " {'label': 'max_depth_32',\n",
       "  'scores': {'accuracy': 0.7745375694122512, 'f1': 0.760311214267802},\n",
       "  'times': {'accuracy': 0.2299507709685713, 'f1': 0.23135250806808472}},\n",
       " {'label': 'max_depth_33',\n",
       "  'scores': {'accuracy': 0.7755189939212227, 'f1': 0.7614306809266888},\n",
       "  'times': {'accuracy': 0.21950575395021588, 'f1': 0.2316488359356299}},\n",
       " {'label': 'max_depth_34',\n",
       "  'scores': {'accuracy': 0.7752737857998641, 'f1': 0.761059785850545},\n",
       "  'times': {'accuracy': 0.24216135602910072, 'f1': 0.23442936898209155}},\n",
       " {'label': 'max_depth_35',\n",
       "  'scores': {'accuracy': 0.7744967097539389, 'f1': 0.7603512735792145},\n",
       "  'times': {'accuracy': 0.23147004004567862, 'f1': 0.22763163095805794}},\n",
       " {'label': 'max_depth_36',\n",
       "  'scores': {'accuracy': 0.7753146354238787, 'f1': 0.7611979174591349},\n",
       "  'times': {'accuracy': 0.2429854410002008, 'f1': 0.2308272230438888}},\n",
       " {'label': 'max_depth_37',\n",
       "  'scores': {'accuracy': 0.7749874771970596, 'f1': 0.7608318488638893},\n",
       "  'times': {'accuracy': 0.23516104998998344, 'f1': 0.24581458198372275}},\n",
       " {'label': 'max_depth_38',\n",
       "  'scores': {'accuracy': 0.7751919661402674, 'f1': 0.7610141226803843},\n",
       "  'times': {'accuracy': 0.23552517197094858, 'f1': 0.2357869220431894}},\n",
       " {'label': 'max_depth_39',\n",
       "  'scores': {'accuracy': 0.7747421285955397, 'f1': 0.7606958315521624},\n",
       "  'times': {'accuracy': 0.2309253979474306, 'f1': 0.232295052963309}}]"
      ]
     },
     "execution_count": 55,
     "metadata": {},
     "output_type": "execute_result"
    }
   ],
   "source": [
    "knn_k_scores= scores\n",
    "print(best_score(knn_k_scores, SCORE_TYPE))\n",
    "knn_k_scores"
   ]
  },
  {
   "cell_type": "code",
   "execution_count": 58,
   "metadata": {},
   "outputs": [],
   "source": [
    "#find the best feature count\n",
    "scores = []\n",
    "for i in range(1,20):\n",
    "    clf = DecisionTreeClassifier(\n",
    "        random_state=42,\n",
    "        criterion=\"entropy\",\n",
    "        max_features=i\n",
    "    )\n",
    "    scores.append({\n",
    "        \"label\":f'max_features_{i}',\n",
    "        \"scores\":{},\n",
    "        \"times\":{}\n",
    "    })\n",
    "    for s in SCORE_TYPE:\n",
    "        t = perf_counter()\n",
    "        scores[-1][\"scores\"][s] = sum(cross_val_score(clf, X_train, y_train,scoring=s, cv=6, n_jobs=6))/6\n",
    "        scores[-1][\"times\"][s] = perf_counter() - t"
   ]
  },
  {
   "cell_type": "code",
   "execution_count": 59,
   "metadata": {},
   "outputs": [
    {
     "name": "stdout",
     "output_type": "stream",
     "text": [
      "{'accuracy': {'label': 'max_features_16', 'score': 0.7738014533676106}, 'f1': {'label': 'max_features_16', 'score': 0.7598353822449279}}\n"
     ]
    },
    {
     "data": {
      "text/plain": [
       "[{'label': 'max_features_1',\n",
       "  'scores': {'accuracy': 0.76778983565828, 'f1': 0.7519762541388827},\n",
       "  'times': {'accuracy': 0.15995598305016756, 'f1': 0.16422614606563002}},\n",
       " {'label': 'max_features_2',\n",
       "  'scores': {'accuracy': 0.7643543030076803, 'f1': 0.7477993332585499},\n",
       "  'times': {'accuracy': 0.16374609607737511, 'f1': 0.16159474896267056}},\n",
       " {'label': 'max_features_3',\n",
       "  'scores': {'accuracy': 0.7710614480293644, 'f1': 0.7563837916778525},\n",
       "  'times': {'accuracy': 0.16019589500501752, 'f1': 0.16619943105615675}},\n",
       " {'label': 'max_features_4',\n",
       "  'scores': {'accuracy': 0.7689347489719861, 'f1': 0.7533472896740158},\n",
       "  'times': {'accuracy': 0.16496467404067516, 'f1': 0.16609682294074446}},\n",
       " {'label': 'max_features_5',\n",
       "  'scores': {'accuracy': 0.7676263368192481, 'f1': 0.7519808467098956},\n",
       "  'times': {'accuracy': 0.1724290270358324, 'f1': 0.16128780704457313}},\n",
       " {'label': 'max_features_6',\n",
       "  'scores': {'accuracy': 0.7716341154064592, 'f1': 0.7567667759320709},\n",
       "  'times': {'accuracy': 0.16879143798723817, 'f1': 0.1685095940483734}},\n",
       " {'label': 'max_features_7',\n",
       "  'scores': {'accuracy': 0.7732698563690694, 'f1': 0.7588377119208007},\n",
       "  'times': {'accuracy': 0.16065853799227625, 'f1': 0.1647751369746402}},\n",
       " {'label': 'max_features_8',\n",
       "  'scores': {'accuracy': 0.7715114360885508, 'f1': 0.7569108514320132},\n",
       "  'times': {'accuracy': 0.16290752706117928, 'f1': 0.1721979450667277}},\n",
       " {'label': 'max_features_9',\n",
       "  'scores': {'accuracy': 0.7714295261202792, 'f1': 0.7568355841922728},\n",
       "  'times': {'accuracy': 0.16918081301264465, 'f1': 0.16765605204273015}},\n",
       " {'label': 'max_features_10',\n",
       "  'scores': {'accuracy': 0.7723292012097348, 'f1': 0.7575913901991035},\n",
       "  'times': {'accuracy': 0.17362198804039508, 'f1': 0.17479921702761203}},\n",
       " {'label': 'max_features_11',\n",
       "  'scores': {'accuracy': 0.772492800391739, 'f1': 0.7584412096051434},\n",
       "  'times': {'accuracy': 0.16923563997261226, 'f1': 0.17634334997273982}},\n",
       " {'label': 'max_features_12',\n",
       "  'scores': {'accuracy': 0.7734333552081013, 'f1': 0.7591531023289896},\n",
       "  'times': {'accuracy': 0.172886170912534, 'f1': 0.1757285729981959}},\n",
       " {'label': 'max_features_13',\n",
       "  'scores': {'accuracy': 0.7722066924748793, 'f1': 0.7577955204259714},\n",
       "  'times': {'accuracy': 0.17011797905433923, 'f1': 0.16642104706261307}},\n",
       " {'label': 'max_features_14',\n",
       "  'scores': {'accuracy': 0.7718794138364932, 'f1': 0.7573314763668114},\n",
       "  'times': {'accuracy': 0.16960617806762457, 'f1': 0.18196909909602255}},\n",
       " {'label': 'max_features_15',\n",
       "  'scores': {'accuracy': 0.772615670361295, 'f1': 0.7584511617010636},\n",
       "  'times': {'accuracy': 0.17149814497679472, 'f1': 0.18619833001866937}},\n",
       " {'label': 'max_features_16',\n",
       "  'scores': {'accuracy': 0.7738014533676106, 'f1': 0.7598353822449279},\n",
       "  'times': {'accuracy': 0.17072424700018018, 'f1': 0.18841889302711934}},\n",
       " {'label': 'max_features_17',\n",
       "  'scores': {'accuracy': 0.773719894599742, 'f1': 0.7593840750428975},\n",
       "  'times': {'accuracy': 0.18488342000637203, 'f1': 0.17791040905285627}},\n",
       " {'label': 'max_features_18',\n",
       "  'scores': {'accuracy': 0.7724929007347114, 'f1': 0.7580964652257487},\n",
       "  'times': {'accuracy': 0.18612626602407545, 'f1': 0.1832154099829495}},\n",
       " {'label': 'max_features_19',\n",
       "  'scores': {'accuracy': 0.7729018083810465, 'f1': 0.758755972874685},\n",
       "  'times': {'accuracy': 0.17968645703513175, 'f1': 0.169766144012101}}]"
      ]
     },
     "execution_count": 59,
     "metadata": {},
     "output_type": "execute_result"
    }
   ],
   "source": [
    "#print the results (used for graphing as well)\n",
    "min_samples_scores = scores\n",
    "print(best_score(min_samples_scores, SCORE_TYPE))\n",
    "min_samples_scores"
   ]
  },
  {
   "cell_type": "code",
   "execution_count": 63,
   "metadata": {},
   "outputs": [],
   "source": [
    "#print the results (used for graphing as well)\n",
    "training_scores = scores\n",
    "training_scores\n",
    "estimator = clf = DecisionTreeClassifier(\n",
    "        random_state=42,\n",
    "        max_depth=12,\n",
    "        criterion=\"entropy\",\n",
    "        max_features=16\n",
    "    )\n",
    "train_sizes, train_scores, test_scores, fit_times, _ = learning_curve(estimator, X_train, y_train, cv=6,return_times=True, n_jobs=6)\n",
    "\n"
   ]
  },
  {
   "cell_type": "code",
   "execution_count": 64,
   "metadata": {},
   "outputs": [
    {
     "name": "stdout",
     "output_type": "stream",
     "text": [
      "f1: 0.2246475134210371\n",
      "acc 0.8183275853727651\n"
     ]
    },
    {
     "data": {
      "text/plain": [
       "<matplotlib.legend.Legend at 0x7fdf2d792d90>"
      ]
     },
     "execution_count": 64,
     "metadata": {},
     "output_type": "execute_result"
    },
    {
     "data": {
      "image/png": "[encoded data removed]",
      "text/plain": [
       "<Figure size 432x288 with 1 Axes>"
      ]
     },
     "metadata": {
      "needs_background": "light"
     },
     "output_type": "display_data"
    }
   ],
   "source": [
    "estimator.fit(X_train, y_train)\n",
    "y_pred = estimator.predict(X_test)\n",
    "plt.hlines(y=metrics.accuracy_score(y_test, y_pred), color='green', xmin=0, xmax = len(X_train), label=\"test accuracy\")\n",
    "plt.hlines(y=metrics.f1_score(y_test, y_pred), color='red', xmin=0, xmax = len(X_train), label=\"test f1\")\n",
    "plt.legend(loc=\"best\")\n",
    "\n",
    "\n",
    "plt.plot(train_sizes,np.mean(train_scores,axis=1), label=\"training score\")\n",
    "plt.plot(train_sizes,np.mean(test_scores,axis=1), label=\"cross validation score\")\n",
    "print(\"f1:\",metrics.f1_score(y_test, y_pred))\n",
    "print(\"acc\", metrics.accuracy_score(y_test, y_pred))\n",
    "plt.xlabel(\"Num Samples\")\n",
    "plt.ylabel(\"Score\")\n",
    "plt.legend(loc=\"best\")"
   ]
  },
  {
   "cell_type": "code",
   "execution_count": 78,
   "metadata": {},
   "outputs": [
    {
     "name": "stdout",
     "output_type": "stream",
     "text": [
      "Accuracy: 0.8386570796671454\n",
      "Precision: 0.1274745546305135\n",
      "f1: 0.21723485270977297\n",
      "3.1067411300027743\n"
     ]
    }
   ],
   "source": [
    "#best is depth 18 and min sample split of 13\n",
    "#test set on best\n",
    "t = perf_counter()\n",
    "clf = DecisionTreeClassifier(\n",
    "    random_state=42,\n",
    "    max_depth=18,\n",
    "    criterion=\"entropy\",\n",
    "    max_features=13\n",
    ")\n",
    "clf.fit(X_train, y_train)\n",
    "y_pred = clf.predict(X_test)\n",
    "print(\"Accuracy:\",metrics.accuracy_score(y_test, y_pred))\n",
    "print(\"Precision:\",metrics.precision_score(y_test, y_pred))\n",
    "print(\"f1:\",metrics.f1_score(y_test, y_pred))\n",
    "print(perf_counter() - t)"
   ]
  },
  {
   "cell_type": "code",
   "execution_count": 65,
   "metadata": {},
   "outputs": [],
   "source": [
    "'''\n",
    "  _                     _   \n",
    " | |                   | |  \n",
    " | |__   ___   ___  ___| |_ \n",
    " | '_ \\ / _ \\ / _ \\/ __| __|\n",
    " | |_) | (_) | (_) \\__ \\ |_ \n",
    " |_.__/ \\___/ \\___/|___/\\__|\n",
    "                            \n",
    "                            \n",
    "'''\n",
    "from sklearn.ensemble import AdaBoostClassifier\n"
   ]
  },
  {
   "cell_type": "code",
   "execution_count": 66,
   "metadata": {},
   "outputs": [
    {
     "name": "stdout",
     "output_type": "stream",
     "text": [
      "50\n",
      "500\n",
      "1000\n"
     ]
    }
   ],
   "source": [
    "scores = []\n",
    "SCORE_TYPE = [\"accuracy\"]\n",
    "n_i=[50,500,1000]\n",
    "for i in n_i:\n",
    "    print(i)\n",
    "    base = DecisionTreeClassifier(max_depth=1, criterion=\"entropy\")\n",
    "    model = AdaBoostClassifier(base_estimator=base,  n_estimators=(i))\n",
    "    scores.append({\n",
    "        \"label\":f'n_estimators_{i}',\n",
    "        \"scores\":{},\n",
    "        \"times\":{}\n",
    "    })\n",
    "    for s in SCORE_TYPE:\n",
    "        t = perf_counter()\n",
    "        scores[-1][\"scores\"][s] = sum(cross_val_score(model, X_train, y_train, scoring=s, cv=6, n_jobs=6))/6\n",
    "        scores[-1][\"times\"][s] = perf_counter() - t"
   ]
  },
  {
   "cell_type": "code",
   "execution_count": 67,
   "metadata": {},
   "outputs": [
    {
     "name": "stdout",
     "output_type": "stream",
     "text": [
      "{'accuracy': {'label': 'n_estimators_500', 'score': 0.786642955622317}}\n"
     ]
    },
    {
     "data": {
      "text/plain": [
       "[{'label': 'n_estimators_50',\n",
       "  'scores': {'accuracy': 0.7856204507004944},\n",
       "  'times': {'accuracy': 1.3716310969321057}},\n",
       " {'label': 'n_estimators_500',\n",
       "  'scores': {'accuracy': 0.786642955622317},\n",
       "  'times': {'accuracy': 11.942256176029332}},\n",
       " {'label': 'n_estimators_1000',\n",
       "  'scores': {'accuracy': 0.786642955622317},\n",
       "  'times': {'accuracy': 23.69805275904946}}]"
      ]
     },
     "execution_count": 67,
     "metadata": {},
     "output_type": "execute_result"
    }
   ],
   "source": [
    "#print the results (used for graphing as well)\n",
    "n_estimators_score = scores\n",
    "print(best_score(n_estimators_score, SCORE_TYPE))\n",
    "n_estimators_score"
   ]
  },
  {
   "cell_type": "code",
   "execution_count": 68,
   "metadata": {},
   "outputs": [
    {
     "name": "stdout",
     "output_type": "stream",
     "text": [
      "1\n",
      "3\n",
      "5\n",
      "7\n",
      "9\n"
     ]
    }
   ],
   "source": [
    "scores = []\n",
    "SCORE_TYPE = [\"accuracy\"]\n",
    "d = [1,3,5,7,9]\n",
    "for i in d:\n",
    "    print(i)\n",
    "    base = DecisionTreeClassifier(max_depth=i, criterion=\"entropy\")\n",
    "    model = AdaBoostClassifier(base_estimator=base,  n_estimators=500)\n",
    "    scores.append({\n",
    "        \"label\":f'n_estimators_{i}',\n",
    "        \"scores\":{},\n",
    "        \"times\":{}\n",
    "    })\n",
    "    for s in SCORE_TYPE:\n",
    "        t = perf_counter()\n",
    "        scores[-1][\"scores\"][s] = sum(cross_val_score(model, X_train, y_train, scoring=s, cv=6, n_jobs=6))/6\n",
    "        scores[-1][\"times\"][s] = perf_counter() - t"
   ]
  },
  {
   "cell_type": "code",
   "execution_count": 69,
   "metadata": {},
   "outputs": [
    {
     "name": "stdout",
     "output_type": "stream",
     "text": [
      "{'accuracy': {'label': 'n_estimators_1', 'score': 0.786642955622317}}\n"
     ]
    },
    {
     "data": {
      "text/plain": [
       "[{'label': 'n_estimators_1',\n",
       "  'scores': {'accuracy': 0.786642955622317},\n",
       "  'times': {'accuracy': 11.635181705933064}},\n",
       " {'label': 'n_estimators_3',\n",
       "  'scores': {'accuracy': 0.7802222295807067},\n",
       "  'times': {'accuracy': 18.639592682011425}},\n",
       " {'label': 'n_estimators_5',\n",
       "  'scores': {'accuracy': 0.7742103108424595},\n",
       "  'times': {'accuracy': 26.509477833053097}},\n",
       " {'label': 'n_estimators_7',\n",
       "  'scores': {'accuracy': 0.7750282766495883},\n",
       "  'times': {'accuracy': 23.038799575995654}},\n",
       " {'label': 'n_estimators_9',\n",
       "  'scores': {'accuracy': 0.773228846196299},\n",
       "  'times': {'accuracy': 20.986596242059022}}]"
      ]
     },
     "execution_count": 69,
     "metadata": {},
     "output_type": "execute_result"
    }
   ],
   "source": [
    "max_depth_boost = scores\n",
    "print(best_score(max_depth_boost, SCORE_TYPE))\n",
    "max_depth_boost"
   ]
  },
  {
   "cell_type": "code",
   "execution_count": 128,
   "metadata": {},
   "outputs": [
    {
     "name": "stdout",
     "output_type": "stream",
     "text": [
      "Accuracy: 0.8355860117096079\n",
      "Precision: 0.1440221683010524\n",
      "Precision: 0.7242599277978339\n",
      "f1: 0.2402663504952155\n",
      "23.09273591893725\n"
     ]
    },
    {
     "data": {
      "image/png": "[encoded data removed]",
      "text/plain": [
       "<Figure size 432x288 with 1 Axes>"
      ]
     },
     "metadata": {
      "needs_background": "light"
     },
     "output_type": "display_data"
    }
   ],
   "source": [
    "base = DecisionTreeClassifier(max_depth=1)\n",
    "model = AdaBoostClassifier(base_estimator=base, n_estimators=500)\n",
    "# model.fit(X_train, y_train)\n",
    "train_sizes, train_scores, test_scores, fit_times, _ = learning_curve(model, X_train, y_train, cv=6,return_times=True, n_jobs=6)\n",
    "\n",
    "\n",
    "\n",
    "plt.plot(train_sizes,np.mean(train_scores,axis=1), label=\"training score\")\n",
    "plt.plot(train_sizes,np.mean(test_scores,axis=1), label=\"cross validation score\")\n",
    "plt.xlabel(\"Num Samples\")\n",
    "plt.ylabel(\"Score\")\n",
    "\n",
    "\n",
    "model.fit(X_train, y_train)\n",
    "t = perf_counter()\n",
    "y_pred = model.predict(X_test)\n",
    "\n",
    "print(\"Accuracy:\",metrics.accuracy_score(y_test, y_pred))\n",
    "print(\"Precision:\",metrics.precision_score(y_test, y_pred))\n",
    "print(\"Precision:\",metrics.recall_score(y_test, y_pred))\n",
    "print(\"f1:\",metrics.f1_score(y_test, y_pred))\n",
    "plt.hlines(y=metrics.accuracy_score(y_test, y_pred), color='green', xmin=0, xmax = len(X_train), label=\"test accuracy\")\n",
    "plt.hlines(y=metrics.f1_score(y_test, y_pred), color='red', xmin=0, xmax = len(X_train), label=\"test f1\")\n",
    "\n",
    "plt.legend(loc=\"best\")\n",
    "print(perf_counter()-t)"
   ]
  },
  {
   "cell_type": "code",
   "execution_count": 74,
   "metadata": {},
   "outputs": [
    {
     "name": "stdout",
     "output_type": "stream",
     "text": [
      "loading from cache\n",
      "Index(['weather', 'state_highway_indicator', 'type_of_collision',\n",
      "       'road_condition', 'lighting', 'motorcycle_collision',\n",
      "       'bicycle_collision', 'pedestrian_collision', 'alcohol_involved',\n",
      "       'severe_injury_count', 'killed_victims', 'pedestrian_killed_count',\n",
      "       'motorcyclist_killed_count', 'bicyclist_killed_count',\n",
      "       'pcf_violation_category', 'collision_date'],\n",
      "      dtype='object')\n",
      "Loading 482296 rows\n",
      "split: Train:  241148 241148 Test:  241148 241148\n",
      "after resample\n",
      "split: Train:  17374 17374 Test:  17374 17374\n"
     ]
    }
   ],
   "source": [
    "'''\n",
    "  _____   ___ __ ___  \n",
    " / __\\ \\ / / '_ ` _ \\ \n",
    " \\__ \\\\ V /| | | | | |\n",
    " |___/ \\_/ |_| |_| |_|\n",
    "                      \n",
    "                      \n",
    "'''\n",
    "from sklearn.svm import SVC\n",
    "X_train, y_train, X_test, y_test = switrsdata.load(undersample=True, verbose=True, year=2018, test_size=0.5)"
   ]
  },
  {
   "cell_type": "code",
   "execution_count": 75,
   "metadata": {},
   "outputs": [
    {
     "name": "stdout",
     "output_type": "stream",
     "text": [
      "17374\n",
      "linear\n",
      "poly\n",
      "rbf\n",
      "sigmoid\n"
     ]
    }
   ],
   "source": [
    "scores = []\n",
    "print(len(X_train))\n",
    "SCORE_TYPE = [\"accuracy\"]\n",
    "KERNELS = ['linear','poly', 'rbf','sigmoid']\n",
    "\n",
    "for k in KERNELS:\n",
    "    print(k)\n",
    "    svm = SVC(kernel=k)\n",
    "\n",
    "    scores.append({\n",
    "        \"label\":f'kernel_{k}_degree_3',\n",
    "        \"scores\":{},\n",
    "        \"times\":{}\n",
    "    })\n",
    "    for s in SCORE_TYPE:\n",
    "        t = perf_counter()\n",
    "        scores[-1][\"scores\"][s] = sum(cross_val_score(svm, X_train, y_train, scoring=s, cv=6, n_jobs=6))/6\n",
    "        scores[-1][\"times\"][s] = perf_counter() - t"
   ]
  },
  {
   "cell_type": "code",
   "execution_count": 76,
   "metadata": {},
   "outputs": [
    {
     "name": "stdout",
     "output_type": "stream",
     "text": [
      "{'accuracy': {'label': 'kernel_poly_degree_3', 'score': 0.7979175015982977}}\n"
     ]
    },
    {
     "data": {
      "text/plain": [
       "[{'label': 'kernel_linear_degree_3',\n",
       "  'scores': {'accuracy': 0.7810532940835949},\n",
       "  'times': {'accuracy': 6.759527024929412}},\n",
       " {'label': 'kernel_poly_degree_3',\n",
       "  'scores': {'accuracy': 0.7979175015982977},\n",
       "  'times': {'accuracy': 33.44136899791192}},\n",
       " {'label': 'kernel_rbf_degree_3',\n",
       "  'scores': {'accuracy': 0.7975146073276781},\n",
       "  'times': {'accuracy': 16.80366056493949}},\n",
       " {'label': 'kernel_sigmoid_degree_3',\n",
       "  'scores': {'accuracy': 0.6651885394898805},\n",
       "  'times': {'accuracy': 4.155078337993473}}]"
      ]
     },
     "execution_count": 76,
     "metadata": {},
     "output_type": "execute_result"
    }
   ],
   "source": [
    "svm_scores= scores\n",
    "print(best_score(svm_scores, SCORE_TYPE))\n",
    "svm_scores"
   ]
  },
  {
   "cell_type": "code",
   "execution_count": 77,
   "metadata": {},
   "outputs": [],
   "source": [
    "scores = []\n",
    "SCORE_TYPE = [\"accuracy\"d]\n",
    "KERNELS = ['rbf']\n",
    "divs = [ 1,10,100,1000,10000]\n",
    "for i in divs:\n",
    "    for k in KERNELS:\n",
    "        svm = SVC(kernel=k, gamma=1/i)\n",
    "  \n",
    "        scores.append({\n",
    "            \"label\":f'kernel_{k}_gamma_{1/i}',\n",
    "            \"scores\":{},\n",
    "            \"times\":{}\n",
    "        })\n",
    "        for s in SCORE_TYPE:\n",
    "            t = perf_counter()\n",
    "            scores[-1][\"scores\"][s] = sum(cross_val_score(svm, X_train, y_train, scoring=s, cv=6, n_jobs=6))/6\n",
    "            scores[-1][\"times\"][s] = perf_counter() - t"
   ]
  },
  {
   "cell_type": "code",
   "execution_count": 78,
   "metadata": {},
   "outputs": [
    {
     "name": "stdout",
     "output_type": "stream",
     "text": [
      "{'accuracy': {'label': 'kernel_rbf_gamma_0.1', 'score': 0.7904926335174953}}\n"
     ]
    },
    {
     "data": {
      "text/plain": [
       "[{'label': 'kernel_rbf_gamma_1.0',\n",
       "  'scores': {'accuracy': 0.7850241096448122},\n",
       "  'times': {'accuracy': 9.266648806980811}},\n",
       " {'label': 'kernel_rbf_gamma_0.1',\n",
       "  'scores': {'accuracy': 0.7904926335174953},\n",
       "  'times': {'accuracy': 12.518336000968702}},\n",
       " {'label': 'kernel_rbf_gamma_0.01',\n",
       "  'scores': {'accuracy': 0.7763908370626945},\n",
       "  'times': {'accuracy': 5.209651496028528}},\n",
       " {'label': 'kernel_rbf_gamma_0.001',\n",
       "  'scores': {'accuracy': 0.7714983563774463},\n",
       "  'times': {'accuracy': 4.9339706369210035}},\n",
       " {'label': 'kernel_rbf_gamma_0.0001',\n",
       "  'scores': {'accuracy': 0.6612179624805582},\n",
       "  'times': {'accuracy': 4.882458086009137}}]"
      ]
     },
     "execution_count": 78,
     "metadata": {},
     "output_type": "execute_result"
    }
   ],
   "source": [
    "svm_scores= scores\n",
    "print(best_score(svm_scores, SCORE_TYPE))\n",
    "svm_scores"
   ]
  },
  {
   "cell_type": "code",
   "execution_count": 79,
   "metadata": {},
   "outputs": [
    {
     "name": "stdout",
     "output_type": "stream",
     "text": [
      "done fitting\n",
      "Accuracy: 0.8438096106955065\n",
      "Precision: 0.15220627070629472\n",
      "f1: 0.2518621511570166\n",
      "2.551711381995119\n"
     ]
    }
   ],
   "source": [
    "svm = SVC(kernel=\"rbf\", gamma = 0.1)\n",
    "svm.fit(X_train, y_train)\n",
    "print(\"done fitting\")\n",
    "t = perf_counter()\n",
    "y_pred = svm.predict(X_test)\n",
    "print(\"Accuracy:\",metrics.accuracy_score(y_test, y_pred))\n",
    "print(\"Precision:\",metrics.precision_score(y_test, y_pred))\n",
    "print(\"f1:\",metrics.f1_score(y_test, y_pred))\n",
    "print(perf_counter() - t)"
   ]
  },
  {
   "cell_type": "code",
   "execution_count": 80,
   "metadata": {},
   "outputs": [
    {
     "data": {
      "text/plain": [
       "<matplotlib.legend.Legend at 0x7fde991776d0>"
      ]
     },
     "execution_count": 80,
     "metadata": {},
     "output_type": "execute_result"
    },
    {
     "data": {
      "image/png": "[encoded data removed]",
      "text/plain": [
       "<Figure size 432x288 with 1 Axes>"
      ]
     },
     "metadata": {
      "needs_background": "light"
     },
     "output_type": "display_data"
    }
   ],
   "source": [
    "model = SVC(kernel=\"rbf\", gamma = 0.1)\n",
    "# model.fit(X_train, y_train)\n",
    "train_sizes, train_scores, test_scores, fit_times, _ = learning_curve(model, X_train, y_train, cv=6,return_times=True, n_jobs=6)\n",
    "\n",
    "plt.plot(train_sizes,np.mean(train_scores,axis=1), label=\"training score\")\n",
    "plt.plot(train_sizes,np.mean(test_scores,axis=1), label=\"cross validation score\")\n",
    "plt.xlabel(\"Num Samples\")\n",
    "plt.ylabel(\"Score\")\n",
    "\n",
    "\n",
    "# print(\"Accuracy:\",metrics.accuracy_score(y_test, y_pred))\n",
    "# print(\"Precision:\",metrics.precision_score(y_test, y_pred))\n",
    "# print(\"f1:\",metrics.f1_score(y_test, y_pred))\n",
    "plt.hlines(y=metrics.accuracy_score(y_test, y_pred), color='green', xmin=0, xmax = len(X_train), label=\"test accuracy\")\n",
    "plt.hlines(y=metrics.f1_score(y_test, y_pred), color='red', xmin=0, xmax = len(X_train), label=\"test f1\")\n",
    "\n",
    "\n",
    "plt.legend(loc=\"best\")\n",
    "# print(perf_counter()-t)"
   ]
  },
  {
   "cell_type": "code",
   "execution_count": 83,
   "metadata": {},
   "outputs": [
    {
     "name": "stdout",
     "output_type": "stream",
     "text": [
      "loading from cache\n",
      "Index(['weather', 'state_highway_indicator', 'type_of_collision',\n",
      "       'road_condition', 'lighting', 'motorcycle_collision',\n",
      "       'bicycle_collision', 'pedestrian_collision', 'alcohol_involved',\n",
      "       'severe_injury_count', 'killed_victims', 'pedestrian_killed_count',\n",
      "       'motorcyclist_killed_count', 'bicyclist_killed_count',\n",
      "       'pcf_violation_category', 'collision_date'],\n",
      "      dtype='object')\n",
      "Loading 482296 rows\n",
      "split: Train:  337607 337607 Test:  144689 144689\n",
      "after resample\n",
      "split: Train:  24452 24452 Test:  24452 24452\n"
     ]
    }
   ],
   "source": [
    "'''\n",
    "  _                \n",
    " | |               \n",
    " | | ___ __  _ __  \n",
    " | |/ / '_ \\| '_ \\ \n",
    " |   <| | | | | | |\n",
    " |_|\\_\\_| |_|_| |_|\n",
    "                   \n",
    "                   \n",
    "'''\n",
    "\n",
    "from sklearn.neighbors import KNeighborsClassifier\n",
    "# X_train, y_train, X_test, y_test = switrsdata.load(undersample=True, verbose=True, test_size=0.75)\n",
    "X_train, y_train, X_test, y_test = switrsdata.load(undersample=True, verbose=True, year=2018)"
   ]
  },
  {
   "cell_type": "code",
   "execution_count": 84,
   "metadata": {
    "collapsed": true
   },
   "outputs": [
    {
     "name": "stdout",
     "output_type": "stream",
     "text": [
      "1\n",
      "2\n",
      "3\n",
      "4\n",
      "5\n",
      "6\n",
      "7\n",
      "8\n",
      "9\n",
      "10\n",
      "11\n",
      "12\n",
      "13\n",
      "14\n",
      "15\n"
     ]
    }
   ],
   "source": [
    "scores = []\n",
    "SCORE_TYPE = [\"accuracy\"]\n",
    "for i in range(1, 16, 1):\n",
    "    print(i)\n",
    "    knn = KNeighborsClassifier(n_neighbors=i)\n",
    "\n",
    "    scores.append({\n",
    "        \"label\":f'knn_k_{i}',\n",
    "        \"scores\":{},\n",
    "        \"times\":{}\n",
    "    })\n",
    "    for s in SCORE_TYPE:\n",
    "        t = perf_counter()\n",
    "        scores[-1][\"scores\"][s] = sum(cross_val_score(knn, X_train, y_train, scoring=s, cv=6, n_jobs=6))/6\n",
    "        scores[-1][\"times\"][s] = perf_counter() - t\n"
   ]
  },
  {
   "cell_type": "code",
   "execution_count": 85,
   "metadata": {
    "scrolled": true
   },
   "outputs": [
    {
     "name": "stdout",
     "output_type": "stream",
     "text": [
      "{'accuracy': {'label': 'knn_k_15', 'score': 0.6743411982155006}}\n"
     ]
    },
    {
     "data": {
      "text/plain": [
       "[{'label': 'knn_k_1',\n",
       "  'scores': {'accuracy': 0.6390481064277701},\n",
       "  'times': {'accuracy': 0.6124329440062866}},\n",
       " {'label': 'knn_k_2',\n",
       "  'scores': {'accuracy': 0.62375269671738},\n",
       "  'times': {'accuracy': 0.5874611999606714}},\n",
       " {'label': 'knn_k_3',\n",
       "  'scores': {'accuracy': 0.6526253935953088},\n",
       "  'times': {'accuracy': 0.575098798959516}},\n",
       " {'label': 'knn_k_4',\n",
       "  'scores': {'accuracy': 0.6370029661382607},\n",
       "  'times': {'accuracy': 0.5902540020179003}},\n",
       " {'label': 'knn_k_5',\n",
       "  'scores': {'accuracy': 0.6562652747089552},\n",
       "  'times': {'accuracy': 0.585718953050673}},\n",
       " {'label': 'knn_k_6',\n",
       "  'scores': {'accuracy': 0.6461637677581976},\n",
       "  'times': {'accuracy': 0.582969225011766}},\n",
       " {'label': 'knn_k_7',\n",
       "  'scores': {'accuracy': 0.6652624269754019},\n",
       "  'times': {'accuracy': 0.5920985710108653}},\n",
       " {'label': 'knn_k_8',\n",
       "  'scores': {'accuracy': 0.6587189212729108},\n",
       "  'times': {'accuracy': 0.5935535680036992}},\n",
       " {'label': 'knn_k_9',\n",
       "  'scores': {'accuracy': 0.669760902765653},\n",
       "  'times': {'accuracy': 0.583948450977914}},\n",
       " {'label': 'knn_k_10',\n",
       "  'scores': {'accuracy': 0.6617451148023946},\n",
       "  'times': {'accuracy': 0.5954493059543893}},\n",
       " {'label': 'knn_k_11',\n",
       "  'scores': {'accuracy': 0.6695155842670246},\n",
       "  'times': {'accuracy': 0.5869821250671521}},\n",
       " {'label': 'knn_k_12',\n",
       "  'scores': {'accuracy': 0.6635855955656433},\n",
       "  'times': {'accuracy': 0.5945980320684612}},\n",
       " {'label': 'knn_k_13',\n",
       "  'scores': {'accuracy': 0.6703335500741535},\n",
       "  'times': {'accuracy': 0.5813760599121451}},\n",
       " {'label': 'knn_k_14',\n",
       "  'scores': {'accuracy': 0.666570879265329},\n",
       "  'times': {'accuracy': 0.5886665949365124}},\n",
       " {'label': 'knn_k_15',\n",
       "  'scores': {'accuracy': 0.6743411982155006},\n",
       "  'times': {'accuracy': 0.5903649650281295}}]"
      ]
     },
     "execution_count": 85,
     "metadata": {},
     "output_type": "execute_result"
    }
   ],
   "source": [
    "knn_k_scores= scores\n",
    "print(best_score(knn_k_scores, SCORE_TYPE))\n",
    "knn_k_scores"
   ]
  },
  {
   "cell_type": "code",
   "execution_count": 86,
   "metadata": {
    "collapsed": true
   },
   "outputs": [
    {
     "name": "stdout",
     "output_type": "stream",
     "text": [
      "5\n",
      "15\n",
      "25\n",
      "35\n",
      "45\n",
      "55\n",
      "65\n",
      "75\n",
      "85\n",
      "95\n",
      "{'accuracy': {'label': 'knn_l_5', 'score': 0.6743411982155006}}\n"
     ]
    }
   ],
   "source": [
    "scores = []\n",
    "SCORE_TYPE = [\"accuracy\"]\n",
    "algos= ['auto','ball_tree','kd_tree','brute']\n",
    "weights = [\"uniform\",\"distance\"]\n",
    "\n",
    "for l in range(5,100,10):\n",
    "    print(l)\n",
    "    knn = KNeighborsClassifier(n_neighbors=15, leaf_size=l)\n",
    "\n",
    "    scores.append({\n",
    "        \"label\":f'knn_l_{l}',\n",
    "        \"scores\":{},\n",
    "        \"times\":{}\n",
    "    })\n",
    "    for s in SCORE_TYPE:\n",
    "        t = perf_counter()\n",
    "        scores[-1][\"scores\"][s] = sum(cross_val_score(knn, X_train, y_train, scoring=s, cv=6, n_jobs=6))/6\n",
    "        scores[-1][\"times\"][s] = perf_counter() - t\n",
    "knn_k_scores = scores\n",
    "print(best_score(knn_k_scores, SCORE_TYPE))"
   ]
  },
  {
   "cell_type": "code",
   "execution_count": 87,
   "metadata": {},
   "outputs": [
    {
     "name": "stdout",
     "output_type": "stream",
     "text": [
      "{'accuracy': {'label': 'knn_l_5', 'score': 0.6743411982155006}}\n"
     ]
    },
    {
     "data": {
      "text/plain": [
       "[{'label': 'knn_l_5',\n",
       "  'scores': {'accuracy': 0.6743411982155006},\n",
       "  'times': {'accuracy': 0.591322551947087}},\n",
       " {'label': 'knn_l_15',\n",
       "  'scores': {'accuracy': 0.6743411982155006},\n",
       "  'times': {'accuracy': 0.592399841058068}},\n",
       " {'label': 'knn_l_25',\n",
       "  'scores': {'accuracy': 0.6743411982155006},\n",
       "  'times': {'accuracy': 0.5985109279863536}},\n",
       " {'label': 'knn_l_35',\n",
       "  'scores': {'accuracy': 0.6743411982155006},\n",
       "  'times': {'accuracy': 0.5803887590300292}},\n",
       " {'label': 'knn_l_45',\n",
       "  'scores': {'accuracy': 0.6743411982155006},\n",
       "  'times': {'accuracy': 0.5943316789343953}},\n",
       " {'label': 'knn_l_55',\n",
       "  'scores': {'accuracy': 0.6743411982155006},\n",
       "  'times': {'accuracy': 0.5950142140500247}},\n",
       " {'label': 'knn_l_65',\n",
       "  'scores': {'accuracy': 0.6743411982155006},\n",
       "  'times': {'accuracy': 0.5900799280498177}},\n",
       " {'label': 'knn_l_75',\n",
       "  'scores': {'accuracy': 0.6743411982155006},\n",
       "  'times': {'accuracy': 0.6006014050217345}},\n",
       " {'label': 'knn_l_85',\n",
       "  'scores': {'accuracy': 0.6743411982155006},\n",
       "  'times': {'accuracy': 0.6036239309469238}},\n",
       " {'label': 'knn_l_95',\n",
       "  'scores': {'accuracy': 0.6743411982155006},\n",
       "  'times': {'accuracy': 0.665466157021001}}]"
      ]
     },
     "execution_count": 87,
     "metadata": {},
     "output_type": "execute_result"
    }
   ],
   "source": [
    "knn_k_scores= scores\n",
    "print(best_score(knn_k_scores, SCORE_TYPE))\n",
    "knn_k_scores"
   ]
  },
  {
   "cell_type": "code",
   "execution_count": 129,
   "metadata": {},
   "outputs": [
    {
     "name": "stdout",
     "output_type": "stream",
     "text": [
      "Accuracy: 0.9072587647115232\n",
      "Precision: 0.17893843136106802\n",
      "Recall: 0.4412996389891697\n",
      "f1: 0.254629533193076\n",
      "2.731150725041516\n"
     ]
    },
    {
     "data": {
      "image/png": "[encoded data removed]",
      "text/plain": [
       "<Figure size 432x288 with 1 Axes>"
      ]
     },
     "metadata": {
      "needs_background": "light"
     },
     "output_type": "display_data"
    }
   ],
   "source": [
    "model = KNeighborsClassifier(n_neighbors=15)\n",
    "# model.fit(X_train, y_train)\n",
    "train_sizes, train_scores, test_scores, fit_times, _ = learning_curve(model, X_train, y_train, cv=6,return_times=True, n_jobs=6)\n",
    "\n",
    "plt.plot(train_sizes,np.mean(train_scores,axis=1), label=\"training score\")\n",
    "plt.plot(train_sizes,np.mean(test_scores,axis=1), label=\"cross validation score\")\n",
    "plt.xlabel(\"Num Samples\")\n",
    "plt.ylabel(\"Score\")\n",
    "\n",
    "\n",
    "model.fit(X_train, y_train)\n",
    "t = perf_counter()\n",
    "y_pred = model.predict(X_test)\n",
    "\n",
    "print(\"Accuracy:\",metrics.accuracy_score(y_test, y_pred))\n",
    "print(\"Precision:\",metrics.precision_score(y_test, y_pred))\n",
    "print(\"Recall:\",metrics.recall_score(y_test, y_pred))\n",
    "print(\"f1:\",metrics.f1_score(y_test, y_pred))\n",
    "plt.hlines(y=metrics.accuracy_score(y_test, y_pred), color='green', xmin=0, xmax = len(X_train), label=\"test accuracy\")\n",
    "plt.hlines(y=metrics.f1_score(y_test, y_pred), color='red', xmin=0, xmax = len(X_train), label=\"test f1\")\n",
    "\n",
    "\n",
    "plt.legend(loc=\"best\")\n",
    "print(perf_counter()-t)"
   ]
  },
  {
   "cell_type": "code",
   "execution_count": 98,
   "metadata": {},
   "outputs": [
    {
     "name": "stdout",
     "output_type": "stream",
     "text": [
      "loading from cache\n",
      "Index(['weather', 'state_highway_indicator', 'type_of_collision',\n",
      "       'road_condition', 'lighting', 'motorcycle_collision',\n",
      "       'bicycle_collision', 'pedestrian_collision', 'alcohol_involved',\n",
      "       'severe_injury_count', 'killed_victims', 'pedestrian_killed_count',\n",
      "       'motorcyclist_killed_count', 'bicyclist_killed_count',\n",
      "       'pcf_violation_category', 'collision_date'],\n",
      "      dtype='object')\n",
      "Loading 482296 rows\n",
      "split: Train:  96459 96459 Test:  385837 385837\n",
      "after resample\n",
      "split: Train:  7056 7056 Test:  7056 7056\n"
     ]
    }
   ],
   "source": [
    "'''\n",
    "                             _            _                      _    \n",
    "                            | |          | |                    | |   \n",
    "  _ __   ___ _   _ _ __ __ _| |_ __   ___| |___      _____  _ __| | __\n",
    " | '_ \\ / _ \\ | | | '__/ _` | | '_ \\ / _ \\ __\\ \\ /\\ / / _ \\| '__| |/ /\n",
    " | | | |  __/ |_| | | | (_| | | | | |  __/ |_ \\ V  V / (_) | |  |   < \n",
    " |_| |_|\\___|\\__,_|_|  \\__,_|_|_| |_|\\___|\\__| \\_/\\_/ \\___/|_|  |_|\\_\\\n",
    "                                                                      \n",
    "                                                                      \n",
    "'''\n",
    "X_train, y_train, X_test, y_test = switrsdata.load(undersample=True, verbose=True, year=2018, test_size=0.80)\n",
    "\n",
    "from tensorflow.keras.models import Sequential\n",
    "from tensorflow.keras.layers import Dense\n",
    "from tensorflow.keras.optimizers import Adam\n",
    "\n",
    "def train_validate_fold(model, _X_train, _y_train, _X_val, _y_val, epochs=200):\n",
    "    model.get_weights()\n",
    "    print(\"training for \", epochs, \"epochs\")\n",
    "    model.fit(_X_train, _y_train, epochs=epochs, verbose = 0)\n",
    "    scores = model.evaluate(_X_val, _y_val, verbose=0)\n",
    "    return scores\n",
    "\n"
   ]
  },
  {
   "cell_type": "code",
   "execution_count": 99,
   "metadata": {},
   "outputs": [],
   "source": [
    "def plot_loss_accuracy(history):\n",
    "    historydf = pd.DataFrame(history.history, index=history.epoch)\n",
    "    plt.figure(figsize=(8, 6))\n",
    "    historydf.plot(ylim=(0, max(1, historydf.values.max())))\n",
    "    loss = history.history['loss'][-1]\n",
    "    acc = history.history['accuracy'][-1]\n",
    "    plt.title('Accuracy vs Loss (with validation)')"
   ]
  },
  {
   "cell_type": "code",
   "execution_count": 100,
   "metadata": {},
   "outputs": [
    {
     "name": "stdout",
     "output_type": "stream",
     "text": [
      " -- hidden 16 --\n",
      "training for  300 epochs\n",
      "training for  300 epochs\n",
      "time total:  110.49906783690676\n",
      " -- hidden 32 --\n",
      "training for  300 epochs\n",
      "training for  300 epochs\n",
      "time total:  111.07583907607477\n",
      " -- hidden 64 --\n",
      "training for  300 epochs\n",
      "training for  300 epochs\n",
      "time total:  111.36607250990346\n",
      " -- hidden 128 --\n",
      "training for  300 epochs\n",
      "training for  300 epochs\n",
      "time total:  113.50257724290714\n"
     ]
    }
   ],
   "source": [
    "scores = []\n",
    "nodes_to_try = [16,32,64, 128]\n",
    "for n in nodes_to_try:\n",
    "    print( \" -- hidden\", n ,\"--\")\n",
    "    model = Sequential()\n",
    "    model.add(Dense(n, activation='relu', input_shape=(X_train.shape[1],)))\n",
    "    model.add(Dense(n, activation='relu'))\n",
    "    model.add(Dense(1, activation='sigmoid'))\n",
    "    model.compile(optimizer='adam', loss='binary_crossentropy', metrics=['accuracy'])\n",
    "    \n",
    "    kfold = StratifiedKFold(n_splits=2, shuffle=True, random_state=42)\n",
    "    kfold.get_n_splits(X_train, y_train)\n",
    "    average_scores = [0,0]\n",
    "    i = 0\n",
    "    runtime= perf_counter()\n",
    "    for t, v in kfold.split(X_train, y_train):\n",
    "        _scores = train_validate_fold(model, X_train.loc[t], y_train.loc[t], X_train.loc[v], y_train.loc[v], epochs=300)\n",
    "        average_scores[0]+=_scores[0]\n",
    "        average_scores[1]+=_scores[1]\n",
    "        i+=1\n",
    "    scores.append({\n",
    "            \"label\":f'nn_n_{n}',\n",
    "            \"scores\":[average_scores[0]/i, average_scores[1]/i],\n",
    "            \"times\":(perf_counter() - runtime)/2\n",
    "        })\n",
    "    print(\"time total: \", perf_counter() - runtime)"
   ]
  },
  {
   "cell_type": "code",
   "execution_count": 101,
   "metadata": {},
   "outputs": [
    {
     "data": {
      "text/plain": [
       "[{'label': 'nn_n_16',\n",
       "  'scores': [0.5668460428714752, 0.7726757228374481],\n",
       "  'times': 55.249530763481744},\n",
       " {'label': 'nn_n_32',\n",
       "  'scores': [0.7055184841156006, 0.7691326439380646],\n",
       "  'times': 55.53791815601289},\n",
       " {'label': 'nn_n_64',\n",
       "  'scores': [0.8042397797107697, 0.7701247036457062],\n",
       "  'times': 55.6830345914932},\n",
       " {'label': 'nn_n_128',\n",
       "  'scores': [1.1463664770126343, 0.768140584230423],\n",
       "  'times': 56.75128705747193}]"
      ]
     },
     "execution_count": 101,
     "metadata": {},
     "output_type": "execute_result"
    }
   ],
   "source": [
    "scores"
   ]
  },
  {
   "cell_type": "code",
   "execution_count": 102,
   "metadata": {},
   "outputs": [
    {
     "name": "stdout",
     "output_type": "stream",
     "text": [
      " -- lr 0.1 --\n",
      "training for  300 epochs\n",
      "training for  300 epochs\n",
      "time total:  112.54831042292062\n",
      " -- lr 0.01 --\n",
      "training for  300 epochs\n",
      "training for  300 epochs\n",
      "time total:  110.90962818393018\n",
      " -- lr 0.001 --\n",
      "training for  300 epochs\n",
      "training for  300 epochs\n",
      "time total:  110.69289446005132\n",
      " -- lr 0.0001 --\n",
      "training for  300 epochs\n",
      "training for  300 epochs\n",
      "time total:  111.6576598000247\n"
     ]
    }
   ],
   "source": [
    "scores = []\n",
    "nodes_to_try = [16,32,64, 128]\n",
    "learning_rates = [.1, .01, .001, .0001]\n",
    "\n",
    "for lr in learning_rates:\n",
    "\n",
    "    print( \" -- lr\", lr ,\"--\")\n",
    "    model = Sequential()\n",
    "    model.add(Dense(16, activation='relu', input_shape=(X_train.shape[1],)))\n",
    "    model.add(Dense(16, activation='relu'))\n",
    "    model.add(Dense(1, activation='sigmoid'))\n",
    "    model.compile(optimizer=Adam(learning_rate=lr), loss='binary_crossentropy', metrics=['accuracy'])\n",
    "    kfold = StratifiedKFold(n_splits=2, shuffle=True, random_state=42)\n",
    "    kfold.get_n_splits(X_train, y_train)\n",
    "    average_scores = [0,0]\n",
    "    i = 0\n",
    "    runtime= perf_counter()\n",
    "    for t, v in kfold.split(X_train, y_train):\n",
    "        _scores = train_validate_fold(model, X_train.loc[t], y_train.loc[t], X_train.loc[v], y_train.loc[v], epochs=300)\n",
    "        average_scores[0]+=_scores[0]\n",
    "        average_scores[1]+=_scores[1]\n",
    "        i+=1\n",
    "    scores.append({\n",
    "            \"label\":f'nn_lr_{lr}',\n",
    "            \"scores\":[average_scores[0]/i, average_scores[1]/i],\n",
    "            \"times\":(perf_counter() - runtime)/2\n",
    "        })\n",
    "    print(\"time total: \", perf_counter() - runtime)"
   ]
  },
  {
   "cell_type": "code",
   "execution_count": 103,
   "metadata": {},
   "outputs": [
    {
     "data": {
      "text/plain": [
       "[{'label': 'nn_lr_0.1',\n",
       "  'scores': [0.6431355178356171, 0.7645975053310394],\n",
       "  'times': 56.27415407495573},\n",
       " {'label': 'nn_lr_0.01',\n",
       "  'scores': [0.9124759435653687, 0.7653061151504517],\n",
       "  'times': 55.45481279300293},\n",
       " {'label': 'nn_lr_0.001',\n",
       "  'scores': [0.5557568371295929, 0.7714002430438995],\n",
       "  'times': 55.34644615452271},\n",
       " {'label': 'nn_lr_0.0001',\n",
       "  'scores': [0.44833482801914215, 0.7920918464660645],\n",
       "  'times': 55.82882828748552}]"
      ]
     },
     "execution_count": 103,
     "metadata": {},
     "output_type": "execute_result"
    }
   ],
   "source": [
    "scores"
   ]
  },
  {
   "cell_type": "code",
   "execution_count": 126,
   "metadata": {},
   "outputs": [],
   "source": [
    "#you can see the val_acc and val loss are never able to get to a good place. maybe not enough capacity\n",
    "model = Sequential()\n",
    "model.add(Dense(16, activation='relu', input_shape=(X_train.shape[1],)))\n",
    "model.add(Dense(16, activation='relu'))\n",
    "model.add(Dense(1, activation='sigmoid'))\n",
    "# model.compile(optimizer='adam', loss='binary_crossentropy', metrics=['accuracy'])\n",
    "model.compile(optimizer=Adam(learning_rate=.0001), loss='binary_crossentropy', metrics=['accuracy'])"
   ]
  },
  {
   "cell_type": "code",
   "execution_count": 127,
   "metadata": {},
   "outputs": [
    {
     "name": "stdout",
     "output_type": "stream",
     "text": [
      "Epoch 1/300\n",
      "177/177 [==============================] - 1s 3ms/step - loss: 0.7213 - accuracy: 0.4142 - val_loss: 0.6092 - val_accuracy: 0.7741\n",
      "Epoch 2/300\n",
      "177/177 [==============================] - 0s 2ms/step - loss: 0.6785 - accuracy: 0.5477 - val_loss: 0.6669 - val_accuracy: 0.5595\n",
      "Epoch 3/300\n",
      "177/177 [==============================] - 0s 2ms/step - loss: 0.6486 - accuracy: 0.7039 - val_loss: 0.7051 - val_accuracy: 0.4299\n",
      "Epoch 4/300\n",
      "177/177 [==============================] - 0s 2ms/step - loss: 0.6240 - accuracy: 0.7344 - val_loss: 0.7210 - val_accuracy: 0.4129\n",
      "Epoch 5/300\n",
      "177/177 [==============================] - 0s 2ms/step - loss: 0.5976 - accuracy: 0.7427 - val_loss: 0.7230 - val_accuracy: 0.4065\n",
      "Epoch 6/300\n",
      "177/177 [==============================] - 0s 2ms/step - loss: 0.5697 - accuracy: 0.7489 - val_loss: 0.7201 - val_accuracy: 0.4221\n",
      "Epoch 7/300\n",
      "177/177 [==============================] - 0s 2ms/step - loss: 0.5418 - accuracy: 0.7580 - val_loss: 0.7052 - val_accuracy: 0.4738\n",
      "Epoch 8/300\n",
      "177/177 [==============================] - 0s 2ms/step - loss: 0.5172 - accuracy: 0.7714 - val_loss: 0.6924 - val_accuracy: 0.5113\n",
      "Epoch 9/300\n",
      "177/177 [==============================] - 0s 2ms/step - loss: 0.4974 - accuracy: 0.7780 - val_loss: 0.6708 - val_accuracy: 0.5588\n",
      "Epoch 10/300\n",
      "177/177 [==============================] - 0s 2ms/step - loss: 0.4821 - accuracy: 0.7856 - val_loss: 0.6599 - val_accuracy: 0.5814\n",
      "Epoch 11/300\n",
      "177/177 [==============================] - 0s 2ms/step - loss: 0.4700 - accuracy: 0.7872 - val_loss: 0.6504 - val_accuracy: 0.6013\n",
      "Epoch 12/300\n",
      "177/177 [==============================] - 0s 2ms/step - loss: 0.4606 - accuracy: 0.7893 - val_loss: 0.6431 - val_accuracy: 0.6091\n",
      "Epoch 13/300\n",
      "177/177 [==============================] - 0s 2ms/step - loss: 0.4532 - accuracy: 0.7927 - val_loss: 0.6380 - val_accuracy: 0.6154\n",
      "Epoch 14/300\n",
      "177/177 [==============================] - 0s 2ms/step - loss: 0.4476 - accuracy: 0.7955 - val_loss: 0.6345 - val_accuracy: 0.6317\n",
      "Epoch 15/300\n",
      "177/177 [==============================] - 0s 2ms/step - loss: 0.4432 - accuracy: 0.7971 - val_loss: 0.6284 - val_accuracy: 0.6452\n",
      "Epoch 16/300\n",
      "177/177 [==============================] - 0s 2ms/step - loss: 0.4396 - accuracy: 0.7987 - val_loss: 0.6210 - val_accuracy: 0.6459\n",
      "Epoch 17/300\n",
      "177/177 [==============================] - 0s 2ms/step - loss: 0.4367 - accuracy: 0.8007 - val_loss: 0.6310 - val_accuracy: 0.6452\n",
      "Epoch 18/300\n",
      "177/177 [==============================] - 0s 2ms/step - loss: 0.4343 - accuracy: 0.8014 - val_loss: 0.6220 - val_accuracy: 0.6494\n",
      "Epoch 19/300\n",
      "177/177 [==============================] - 0s 2ms/step - loss: 0.4323 - accuracy: 0.8021 - val_loss: 0.6214 - val_accuracy: 0.6544\n",
      "Epoch 20/300\n",
      "177/177 [==============================] - 0s 2ms/step - loss: 0.4308 - accuracy: 0.8033 - val_loss: 0.6185 - val_accuracy: 0.6601\n",
      "Epoch 21/300\n",
      "177/177 [==============================] - 0s 2ms/step - loss: 0.4291 - accuracy: 0.8033 - val_loss: 0.6315 - val_accuracy: 0.6452\n",
      "Epoch 22/300\n",
      "177/177 [==============================] - 0s 2ms/step - loss: 0.4281 - accuracy: 0.8042 - val_loss: 0.6152 - val_accuracy: 0.6601\n",
      "Epoch 23/300\n",
      "177/177 [==============================] - 0s 2ms/step - loss: 0.4270 - accuracy: 0.8033 - val_loss: 0.6161 - val_accuracy: 0.6678\n",
      "Epoch 24/300\n",
      "177/177 [==============================] - 0s 2ms/step - loss: 0.4261 - accuracy: 0.8044 - val_loss: 0.6009 - val_accuracy: 0.6806\n",
      "Epoch 25/300\n",
      "177/177 [==============================] - 0s 2ms/step - loss: 0.4252 - accuracy: 0.8055 - val_loss: 0.6045 - val_accuracy: 0.6700\n",
      "Epoch 26/300\n",
      "177/177 [==============================] - 0s 2ms/step - loss: 0.4245 - accuracy: 0.8060 - val_loss: 0.6000 - val_accuracy: 0.6742\n",
      "Epoch 27/300\n",
      "177/177 [==============================] - 0s 2ms/step - loss: 0.4238 - accuracy: 0.8069 - val_loss: 0.5969 - val_accuracy: 0.6884\n",
      "Epoch 28/300\n",
      "177/177 [==============================] - 0s 2ms/step - loss: 0.4231 - accuracy: 0.8067 - val_loss: 0.5978 - val_accuracy: 0.6792\n",
      "Epoch 29/300\n",
      "177/177 [==============================] - 0s 2ms/step - loss: 0.4226 - accuracy: 0.8072 - val_loss: 0.6111 - val_accuracy: 0.6678\n",
      "Epoch 30/300\n",
      "177/177 [==============================] - 0s 2ms/step - loss: 0.4220 - accuracy: 0.8072 - val_loss: 0.6107 - val_accuracy: 0.6700\n",
      "Epoch 31/300\n",
      "177/177 [==============================] - 0s 2ms/step - loss: 0.4214 - accuracy: 0.8076 - val_loss: 0.6079 - val_accuracy: 0.6707\n",
      "Epoch 32/300\n",
      "177/177 [==============================] - 0s 2ms/step - loss: 0.4210 - accuracy: 0.8078 - val_loss: 0.6154 - val_accuracy: 0.6693\n",
      "Epoch 33/300\n",
      "177/177 [==============================] - 0s 2ms/step - loss: 0.4206 - accuracy: 0.8074 - val_loss: 0.5943 - val_accuracy: 0.6806\n",
      "Epoch 34/300\n",
      "177/177 [==============================] - 0s 2ms/step - loss: 0.4202 - accuracy: 0.8086 - val_loss: 0.6075 - val_accuracy: 0.6749\n",
      "Epoch 35/300\n",
      "177/177 [==============================] - 0s 2ms/step - loss: 0.4198 - accuracy: 0.8086 - val_loss: 0.6094 - val_accuracy: 0.6749\n",
      "Epoch 36/300\n",
      "177/177 [==============================] - 0s 2ms/step - loss: 0.4194 - accuracy: 0.8081 - val_loss: 0.6150 - val_accuracy: 0.6742\n",
      "Epoch 37/300\n",
      "177/177 [==============================] - 0s 2ms/step - loss: 0.4190 - accuracy: 0.8092 - val_loss: 0.6218 - val_accuracy: 0.6693\n",
      "Epoch 38/300\n",
      "177/177 [==============================] - 0s 2ms/step - loss: 0.4186 - accuracy: 0.8083 - val_loss: 0.6126 - val_accuracy: 0.6749\n",
      "Epoch 39/300\n",
      "177/177 [==============================] - 0s 2ms/step - loss: 0.4183 - accuracy: 0.8086 - val_loss: 0.6089 - val_accuracy: 0.6749\n",
      "Epoch 40/300\n",
      "177/177 [==============================] - 0s 2ms/step - loss: 0.4180 - accuracy: 0.8094 - val_loss: 0.6053 - val_accuracy: 0.6756\n",
      "Epoch 41/300\n",
      "177/177 [==============================] - 0s 2ms/step - loss: 0.4176 - accuracy: 0.8092 - val_loss: 0.5954 - val_accuracy: 0.6763\n",
      "Epoch 42/300\n",
      "177/177 [==============================] - 0s 2ms/step - loss: 0.4171 - accuracy: 0.8085 - val_loss: 0.6284 - val_accuracy: 0.6686\n",
      "Epoch 43/300\n",
      "177/177 [==============================] - 0s 2ms/step - loss: 0.4171 - accuracy: 0.8099 - val_loss: 0.6068 - val_accuracy: 0.6707\n",
      "Epoch 44/300\n",
      "177/177 [==============================] - 0s 2ms/step - loss: 0.4167 - accuracy: 0.8095 - val_loss: 0.5978 - val_accuracy: 0.6778\n",
      "Epoch 45/300\n",
      "177/177 [==============================] - 0s 2ms/step - loss: 0.4164 - accuracy: 0.8099 - val_loss: 0.6019 - val_accuracy: 0.6707\n",
      "Epoch 46/300\n",
      "177/177 [==============================] - 0s 2ms/step - loss: 0.4161 - accuracy: 0.8094 - val_loss: 0.5927 - val_accuracy: 0.6778\n",
      "Epoch 47/300\n",
      "177/177 [==============================] - 0s 2ms/step - loss: 0.4158 - accuracy: 0.8097 - val_loss: 0.6179 - val_accuracy: 0.6707\n",
      "Epoch 48/300\n",
      "177/177 [==============================] - 0s 2ms/step - loss: 0.4156 - accuracy: 0.8102 - val_loss: 0.5974 - val_accuracy: 0.6728\n",
      "Epoch 49/300\n",
      "177/177 [==============================] - 0s 2ms/step - loss: 0.4154 - accuracy: 0.8102 - val_loss: 0.6128 - val_accuracy: 0.6714\n",
      "Epoch 50/300\n",
      "177/177 [==============================] - 0s 2ms/step - loss: 0.4152 - accuracy: 0.8101 - val_loss: 0.6098 - val_accuracy: 0.6714\n",
      "Epoch 51/300\n",
      "177/177 [==============================] - 0s 2ms/step - loss: 0.4151 - accuracy: 0.8102 - val_loss: 0.6058 - val_accuracy: 0.6721\n",
      "Epoch 52/300\n",
      "177/177 [==============================] - 0s 2ms/step - loss: 0.4146 - accuracy: 0.8106 - val_loss: 0.6147 - val_accuracy: 0.6714\n",
      "Epoch 53/300\n",
      "177/177 [==============================] - 0s 2ms/step - loss: 0.4144 - accuracy: 0.8101 - val_loss: 0.6032 - val_accuracy: 0.6728\n",
      "Epoch 54/300\n",
      "177/177 [==============================] - 0s 2ms/step - loss: 0.4141 - accuracy: 0.8094 - val_loss: 0.6086 - val_accuracy: 0.6721\n",
      "Epoch 55/300\n",
      "177/177 [==============================] - 0s 2ms/step - loss: 0.4142 - accuracy: 0.8092 - val_loss: 0.6171 - val_accuracy: 0.6721\n",
      "Epoch 56/300\n",
      "177/177 [==============================] - 0s 2ms/step - loss: 0.4136 - accuracy: 0.8108 - val_loss: 0.6250 - val_accuracy: 0.6700\n",
      "Epoch 57/300\n",
      "177/177 [==============================] - 0s 2ms/step - loss: 0.4136 - accuracy: 0.8101 - val_loss: 0.6071 - val_accuracy: 0.6728\n",
      "Epoch 58/300\n",
      "177/177 [==============================] - 0s 2ms/step - loss: 0.4132 - accuracy: 0.8104 - val_loss: 0.6234 - val_accuracy: 0.6707\n",
      "Epoch 59/300\n",
      "177/177 [==============================] - 0s 2ms/step - loss: 0.4132 - accuracy: 0.8106 - val_loss: 0.6146 - val_accuracy: 0.6714\n",
      "Epoch 60/300\n",
      "177/177 [==============================] - 0s 2ms/step - loss: 0.4130 - accuracy: 0.8106 - val_loss: 0.6150 - val_accuracy: 0.6714\n",
      "Epoch 61/300\n",
      "177/177 [==============================] - 0s 2ms/step - loss: 0.4128 - accuracy: 0.8108 - val_loss: 0.6136 - val_accuracy: 0.6721\n",
      "Epoch 62/300\n",
      "177/177 [==============================] - 0s 2ms/step - loss: 0.4126 - accuracy: 0.8115 - val_loss: 0.6111 - val_accuracy: 0.6735\n",
      "Epoch 63/300\n",
      "177/177 [==============================] - 0s 2ms/step - loss: 0.4123 - accuracy: 0.8118 - val_loss: 0.6036 - val_accuracy: 0.6742\n",
      "Epoch 64/300\n",
      "177/177 [==============================] - 0s 2ms/step - loss: 0.4122 - accuracy: 0.8109 - val_loss: 0.5931 - val_accuracy: 0.6785\n",
      "Epoch 65/300\n",
      "177/177 [==============================] - 0s 2ms/step - loss: 0.4117 - accuracy: 0.8124 - val_loss: 0.6251 - val_accuracy: 0.6671\n",
      "Epoch 66/300\n",
      "177/177 [==============================] - 0s 2ms/step - loss: 0.4119 - accuracy: 0.8104 - val_loss: 0.6072 - val_accuracy: 0.6742\n",
      "Epoch 67/300\n",
      "177/177 [==============================] - 0s 2ms/step - loss: 0.4116 - accuracy: 0.8127 - val_loss: 0.5971 - val_accuracy: 0.6756\n",
      "Epoch 68/300\n",
      "177/177 [==============================] - 0s 2ms/step - loss: 0.4114 - accuracy: 0.8122 - val_loss: 0.5965 - val_accuracy: 0.6763\n",
      "Epoch 69/300\n",
      "177/177 [==============================] - 0s 2ms/step - loss: 0.4112 - accuracy: 0.8122 - val_loss: 0.6060 - val_accuracy: 0.6742\n",
      "Epoch 70/300\n",
      "177/177 [==============================] - 0s 2ms/step - loss: 0.4110 - accuracy: 0.8113 - val_loss: 0.5979 - val_accuracy: 0.6756\n",
      "Epoch 71/300\n",
      "177/177 [==============================] - 0s 2ms/step - loss: 0.4112 - accuracy: 0.8117 - val_loss: 0.6077 - val_accuracy: 0.6735\n",
      "Epoch 72/300\n",
      "177/177 [==============================] - 0s 2ms/step - loss: 0.4107 - accuracy: 0.8127 - val_loss: 0.6143 - val_accuracy: 0.6728\n",
      "Epoch 73/300\n",
      "177/177 [==============================] - 0s 2ms/step - loss: 0.4106 - accuracy: 0.8147 - val_loss: 0.5965 - val_accuracy: 0.6756\n",
      "Epoch 74/300\n",
      "177/177 [==============================] - 0s 2ms/step - loss: 0.4104 - accuracy: 0.8127 - val_loss: 0.6188 - val_accuracy: 0.6714\n",
      "Epoch 75/300\n",
      "177/177 [==============================] - 0s 2ms/step - loss: 0.4102 - accuracy: 0.8113 - val_loss: 0.5943 - val_accuracy: 0.6763\n",
      "Epoch 76/300\n",
      "177/177 [==============================] - 0s 2ms/step - loss: 0.4101 - accuracy: 0.8124 - val_loss: 0.6037 - val_accuracy: 0.6728\n",
      "Epoch 77/300\n",
      "177/177 [==============================] - 0s 2ms/step - loss: 0.4098 - accuracy: 0.8127 - val_loss: 0.6047 - val_accuracy: 0.6735\n",
      "Epoch 78/300\n",
      "177/177 [==============================] - 0s 2ms/step - loss: 0.4096 - accuracy: 0.8125 - val_loss: 0.5978 - val_accuracy: 0.6763\n",
      "Epoch 79/300\n",
      "177/177 [==============================] - 0s 2ms/step - loss: 0.4095 - accuracy: 0.8127 - val_loss: 0.5955 - val_accuracy: 0.6763\n",
      "Epoch 80/300\n",
      "177/177 [==============================] - 0s 2ms/step - loss: 0.4095 - accuracy: 0.8131 - val_loss: 0.6043 - val_accuracy: 0.6735\n",
      "Epoch 81/300\n",
      "177/177 [==============================] - 0s 2ms/step - loss: 0.4092 - accuracy: 0.8120 - val_loss: 0.6124 - val_accuracy: 0.6728\n",
      "Epoch 82/300\n",
      "177/177 [==============================] - 0s 2ms/step - loss: 0.4092 - accuracy: 0.8127 - val_loss: 0.6026 - val_accuracy: 0.6756\n",
      "Epoch 83/300\n",
      "177/177 [==============================] - 0s 2ms/step - loss: 0.4089 - accuracy: 0.8131 - val_loss: 0.6290 - val_accuracy: 0.6671\n",
      "Epoch 84/300\n",
      "177/177 [==============================] - 0s 2ms/step - loss: 0.4091 - accuracy: 0.8117 - val_loss: 0.6190 - val_accuracy: 0.6678\n",
      "Epoch 85/300\n",
      "177/177 [==============================] - 0s 2ms/step - loss: 0.4086 - accuracy: 0.8127 - val_loss: 0.6012 - val_accuracy: 0.6799\n",
      "Epoch 86/300\n",
      "177/177 [==============================] - 0s 2ms/step - loss: 0.4086 - accuracy: 0.8134 - val_loss: 0.5929 - val_accuracy: 0.6841\n",
      "Epoch 87/300\n",
      "177/177 [==============================] - 0s 2ms/step - loss: 0.4084 - accuracy: 0.8129 - val_loss: 0.6119 - val_accuracy: 0.6735\n",
      "Epoch 88/300\n",
      "177/177 [==============================] - 0s 2ms/step - loss: 0.4084 - accuracy: 0.8148 - val_loss: 0.6041 - val_accuracy: 0.6756\n",
      "Epoch 89/300\n",
      "177/177 [==============================] - 0s 2ms/step - loss: 0.4081 - accuracy: 0.8115 - val_loss: 0.6011 - val_accuracy: 0.6806\n",
      "Epoch 90/300\n",
      "177/177 [==============================] - 0s 2ms/step - loss: 0.4079 - accuracy: 0.8129 - val_loss: 0.5958 - val_accuracy: 0.6813\n",
      "Epoch 91/300\n",
      "177/177 [==============================] - 0s 2ms/step - loss: 0.4079 - accuracy: 0.8157 - val_loss: 0.6122 - val_accuracy: 0.6707\n",
      "Epoch 92/300\n",
      "177/177 [==============================] - 0s 2ms/step - loss: 0.4077 - accuracy: 0.8136 - val_loss: 0.6129 - val_accuracy: 0.6707\n",
      "Epoch 93/300\n",
      "177/177 [==============================] - 0s 2ms/step - loss: 0.4075 - accuracy: 0.8138 - val_loss: 0.5985 - val_accuracy: 0.6827\n",
      "Epoch 94/300\n",
      "177/177 [==============================] - 0s 2ms/step - loss: 0.4074 - accuracy: 0.8145 - val_loss: 0.6114 - val_accuracy: 0.6721\n",
      "Epoch 95/300\n",
      "177/177 [==============================] - 0s 2ms/step - loss: 0.4072 - accuracy: 0.8125 - val_loss: 0.5923 - val_accuracy: 0.6877\n",
      "Epoch 96/300\n",
      "177/177 [==============================] - 0s 2ms/step - loss: 0.4073 - accuracy: 0.8145 - val_loss: 0.6039 - val_accuracy: 0.6806\n",
      "Epoch 97/300\n",
      "177/177 [==============================] - 0s 2ms/step - loss: 0.4069 - accuracy: 0.8141 - val_loss: 0.6056 - val_accuracy: 0.6806\n",
      "Epoch 98/300\n",
      "177/177 [==============================] - 0s 2ms/step - loss: 0.4069 - accuracy: 0.8150 - val_loss: 0.6070 - val_accuracy: 0.6792\n",
      "Epoch 99/300\n",
      "177/177 [==============================] - 0s 2ms/step - loss: 0.4067 - accuracy: 0.8147 - val_loss: 0.6139 - val_accuracy: 0.6693\n",
      "Epoch 100/300\n",
      "177/177 [==============================] - 0s 2ms/step - loss: 0.4065 - accuracy: 0.8156 - val_loss: 0.6190 - val_accuracy: 0.6678\n",
      "Epoch 101/300\n",
      "177/177 [==============================] - 0s 2ms/step - loss: 0.4064 - accuracy: 0.8140 - val_loss: 0.6204 - val_accuracy: 0.6686\n",
      "Epoch 102/300\n",
      "177/177 [==============================] - 0s 2ms/step - loss: 0.4062 - accuracy: 0.8143 - val_loss: 0.6102 - val_accuracy: 0.6799\n",
      "Epoch 103/300\n",
      "177/177 [==============================] - 0s 2ms/step - loss: 0.4061 - accuracy: 0.8157 - val_loss: 0.6013 - val_accuracy: 0.6891\n",
      "Epoch 104/300\n",
      "177/177 [==============================] - 0s 2ms/step - loss: 0.4059 - accuracy: 0.8141 - val_loss: 0.5898 - val_accuracy: 0.6933\n",
      "Epoch 105/300\n",
      "177/177 [==============================] - 0s 2ms/step - loss: 0.4059 - accuracy: 0.8170 - val_loss: 0.6022 - val_accuracy: 0.6870\n",
      "Epoch 106/300\n",
      "177/177 [==============================] - 0s 2ms/step - loss: 0.4057 - accuracy: 0.8140 - val_loss: 0.6113 - val_accuracy: 0.6799\n",
      "Epoch 107/300\n",
      "177/177 [==============================] - 0s 2ms/step - loss: 0.4056 - accuracy: 0.8147 - val_loss: 0.6198 - val_accuracy: 0.6686\n",
      "Epoch 108/300\n",
      "177/177 [==============================] - 0s 2ms/step - loss: 0.4054 - accuracy: 0.8152 - val_loss: 0.6201 - val_accuracy: 0.6700\n",
      "Epoch 109/300\n",
      "177/177 [==============================] - 0s 2ms/step - loss: 0.4055 - accuracy: 0.8129 - val_loss: 0.6114 - val_accuracy: 0.6827\n",
      "Epoch 110/300\n",
      "177/177 [==============================] - 0s 2ms/step - loss: 0.4053 - accuracy: 0.8145 - val_loss: 0.6095 - val_accuracy: 0.6863\n",
      "Epoch 111/300\n",
      "177/177 [==============================] - 0s 2ms/step - loss: 0.4049 - accuracy: 0.8138 - val_loss: 0.5917 - val_accuracy: 0.6933\n",
      "Epoch 112/300\n",
      "177/177 [==============================] - 0s 2ms/step - loss: 0.4051 - accuracy: 0.8145 - val_loss: 0.6067 - val_accuracy: 0.6884\n",
      "Epoch 113/300\n",
      "177/177 [==============================] - 0s 2ms/step - loss: 0.4049 - accuracy: 0.8157 - val_loss: 0.6127 - val_accuracy: 0.6856\n",
      "Epoch 114/300\n",
      "177/177 [==============================] - 0s 2ms/step - loss: 0.4048 - accuracy: 0.8150 - val_loss: 0.5960 - val_accuracy: 0.6905\n",
      "Epoch 115/300\n",
      "177/177 [==============================] - 0s 2ms/step - loss: 0.4046 - accuracy: 0.8170 - val_loss: 0.6139 - val_accuracy: 0.6813\n",
      "Epoch 116/300\n",
      "177/177 [==============================] - 0s 2ms/step - loss: 0.4044 - accuracy: 0.8148 - val_loss: 0.6228 - val_accuracy: 0.6742\n",
      "Epoch 117/300\n",
      "177/177 [==============================] - 0s 2ms/step - loss: 0.4043 - accuracy: 0.8147 - val_loss: 0.6020 - val_accuracy: 0.6905\n",
      "Epoch 118/300\n",
      "177/177 [==============================] - 0s 2ms/step - loss: 0.4043 - accuracy: 0.8161 - val_loss: 0.6018 - val_accuracy: 0.6891\n",
      "Epoch 119/300\n",
      "177/177 [==============================] - 0s 2ms/step - loss: 0.4042 - accuracy: 0.8156 - val_loss: 0.6097 - val_accuracy: 0.6884\n",
      "Epoch 120/300\n",
      "177/177 [==============================] - 0s 2ms/step - loss: 0.4040 - accuracy: 0.8164 - val_loss: 0.6120 - val_accuracy: 0.6877\n",
      "Epoch 121/300\n",
      "177/177 [==============================] - 0s 2ms/step - loss: 0.4038 - accuracy: 0.8168 - val_loss: 0.6203 - val_accuracy: 0.6756\n",
      "Epoch 122/300\n",
      "177/177 [==============================] - 0s 2ms/step - loss: 0.4038 - accuracy: 0.8161 - val_loss: 0.6226 - val_accuracy: 0.6771\n",
      "Epoch 123/300\n",
      "177/177 [==============================] - 0s 2ms/step - loss: 0.4036 - accuracy: 0.8180 - val_loss: 0.6037 - val_accuracy: 0.6912\n",
      "Epoch 124/300\n",
      "177/177 [==============================] - 0s 2ms/step - loss: 0.4034 - accuracy: 0.8159 - val_loss: 0.6309 - val_accuracy: 0.6735\n",
      "Epoch 125/300\n",
      "177/177 [==============================] - 0s 2ms/step - loss: 0.4033 - accuracy: 0.8163 - val_loss: 0.6231 - val_accuracy: 0.6778\n",
      "Epoch 126/300\n",
      "177/177 [==============================] - 0s 2ms/step - loss: 0.4033 - accuracy: 0.8164 - val_loss: 0.6226 - val_accuracy: 0.6813\n",
      "Epoch 127/300\n",
      "177/177 [==============================] - 0s 2ms/step - loss: 0.4031 - accuracy: 0.8175 - val_loss: 0.6209 - val_accuracy: 0.6827\n",
      "Epoch 128/300\n",
      "177/177 [==============================] - 0s 2ms/step - loss: 0.4031 - accuracy: 0.8161 - val_loss: 0.6181 - val_accuracy: 0.6834\n",
      "Epoch 129/300\n",
      "177/177 [==============================] - 0s 2ms/step - loss: 0.4028 - accuracy: 0.8152 - val_loss: 0.6073 - val_accuracy: 0.6912\n",
      "Epoch 130/300\n",
      "177/177 [==============================] - 0s 2ms/step - loss: 0.4027 - accuracy: 0.8173 - val_loss: 0.6094 - val_accuracy: 0.6912\n",
      "Epoch 131/300\n",
      "177/177 [==============================] - 0s 2ms/step - loss: 0.4027 - accuracy: 0.8170 - val_loss: 0.6108 - val_accuracy: 0.6898\n",
      "Epoch 132/300\n",
      "177/177 [==============================] - 0s 2ms/step - loss: 0.4025 - accuracy: 0.8170 - val_loss: 0.6150 - val_accuracy: 0.6898\n",
      "Epoch 133/300\n",
      "177/177 [==============================] - 0s 2ms/step - loss: 0.4022 - accuracy: 0.8170 - val_loss: 0.5938 - val_accuracy: 0.6955\n",
      "Epoch 134/300\n",
      "177/177 [==============================] - 0s 2ms/step - loss: 0.4024 - accuracy: 0.8164 - val_loss: 0.5992 - val_accuracy: 0.6926\n",
      "Epoch 135/300\n",
      "177/177 [==============================] - 0s 2ms/step - loss: 0.4022 - accuracy: 0.8170 - val_loss: 0.5947 - val_accuracy: 0.6926\n",
      "Epoch 136/300\n",
      "177/177 [==============================] - 0s 2ms/step - loss: 0.4022 - accuracy: 0.8161 - val_loss: 0.6093 - val_accuracy: 0.6898\n",
      "Epoch 137/300\n",
      "177/177 [==============================] - 0s 2ms/step - loss: 0.4020 - accuracy: 0.8163 - val_loss: 0.6040 - val_accuracy: 0.6898\n",
      "Epoch 138/300\n",
      "177/177 [==============================] - 0s 2ms/step - loss: 0.4020 - accuracy: 0.8170 - val_loss: 0.5900 - val_accuracy: 0.6976\n",
      "Epoch 139/300\n",
      "177/177 [==============================] - 0s 2ms/step - loss: 0.4017 - accuracy: 0.8164 - val_loss: 0.6079 - val_accuracy: 0.6891\n",
      "Epoch 140/300\n",
      "177/177 [==============================] - 0s 2ms/step - loss: 0.4016 - accuracy: 0.8161 - val_loss: 0.6073 - val_accuracy: 0.6891\n",
      "Epoch 141/300\n",
      "177/177 [==============================] - 0s 2ms/step - loss: 0.4015 - accuracy: 0.8164 - val_loss: 0.6110 - val_accuracy: 0.6884\n",
      "Epoch 142/300\n",
      "177/177 [==============================] - 0s 2ms/step - loss: 0.4011 - accuracy: 0.8179 - val_loss: 0.6349 - val_accuracy: 0.6693\n",
      "Epoch 143/300\n",
      "177/177 [==============================] - 0s 2ms/step - loss: 0.4012 - accuracy: 0.8189 - val_loss: 0.6105 - val_accuracy: 0.6884\n",
      "Epoch 144/300\n",
      "177/177 [==============================] - 0s 2ms/step - loss: 0.4011 - accuracy: 0.8184 - val_loss: 0.6272 - val_accuracy: 0.6827\n",
      "Epoch 145/300\n",
      "177/177 [==============================] - 0s 2ms/step - loss: 0.4010 - accuracy: 0.8175 - val_loss: 0.6164 - val_accuracy: 0.6856\n",
      "Epoch 146/300\n",
      "177/177 [==============================] - 0s 2ms/step - loss: 0.4008 - accuracy: 0.8179 - val_loss: 0.6215 - val_accuracy: 0.6848\n",
      "Epoch 147/300\n",
      "177/177 [==============================] - 0s 2ms/step - loss: 0.4007 - accuracy: 0.8179 - val_loss: 0.6266 - val_accuracy: 0.6841\n",
      "Epoch 148/300\n",
      "177/177 [==============================] - 0s 2ms/step - loss: 0.4007 - accuracy: 0.8175 - val_loss: 0.6166 - val_accuracy: 0.6884\n",
      "Epoch 149/300\n",
      "177/177 [==============================] - 0s 2ms/step - loss: 0.4005 - accuracy: 0.8170 - val_loss: 0.6191 - val_accuracy: 0.6856\n",
      "Epoch 150/300\n",
      "177/177 [==============================] - 0s 2ms/step - loss: 0.4003 - accuracy: 0.8182 - val_loss: 0.6214 - val_accuracy: 0.6856\n",
      "Epoch 151/300\n",
      "177/177 [==============================] - 0s 2ms/step - loss: 0.4002 - accuracy: 0.8175 - val_loss: 0.6223 - val_accuracy: 0.6834\n",
      "Epoch 152/300\n",
      "177/177 [==============================] - 0s 2ms/step - loss: 0.4001 - accuracy: 0.8177 - val_loss: 0.6287 - val_accuracy: 0.6742\n",
      "Epoch 153/300\n",
      "177/177 [==============================] - 0s 2ms/step - loss: 0.4001 - accuracy: 0.8175 - val_loss: 0.6039 - val_accuracy: 0.6933\n",
      "Epoch 154/300\n",
      "177/177 [==============================] - 0s 2ms/step - loss: 0.3997 - accuracy: 0.8189 - val_loss: 0.6387 - val_accuracy: 0.6650\n",
      "Epoch 155/300\n",
      "177/177 [==============================] - 0s 2ms/step - loss: 0.3998 - accuracy: 0.8180 - val_loss: 0.6206 - val_accuracy: 0.6856\n",
      "Epoch 156/300\n",
      "177/177 [==============================] - 0s 2ms/step - loss: 0.3998 - accuracy: 0.8191 - val_loss: 0.6316 - val_accuracy: 0.6678\n",
      "Epoch 157/300\n",
      "177/177 [==============================] - 0s 2ms/step - loss: 0.3996 - accuracy: 0.8182 - val_loss: 0.6145 - val_accuracy: 0.6884\n",
      "Epoch 158/300\n",
      "177/177 [==============================] - 0s 2ms/step - loss: 0.3995 - accuracy: 0.8170 - val_loss: 0.6157 - val_accuracy: 0.6891\n",
      "Epoch 159/300\n",
      "177/177 [==============================] - 0s 2ms/step - loss: 0.3993 - accuracy: 0.8191 - val_loss: 0.6306 - val_accuracy: 0.6700\n",
      "Epoch 160/300\n",
      "177/177 [==============================] - 0s 2ms/step - loss: 0.3993 - accuracy: 0.8163 - val_loss: 0.6183 - val_accuracy: 0.6884\n",
      "Epoch 161/300\n",
      "177/177 [==============================] - 0s 2ms/step - loss: 0.3991 - accuracy: 0.8173 - val_loss: 0.6088 - val_accuracy: 0.6941\n",
      "Epoch 162/300\n",
      "177/177 [==============================] - 0s 2ms/step - loss: 0.3991 - accuracy: 0.8172 - val_loss: 0.6028 - val_accuracy: 0.6948\n",
      "Epoch 163/300\n",
      "177/177 [==============================] - 0s 2ms/step - loss: 0.3988 - accuracy: 0.8172 - val_loss: 0.6295 - val_accuracy: 0.6693\n",
      "Epoch 164/300\n",
      "177/177 [==============================] - 0s 2ms/step - loss: 0.3988 - accuracy: 0.8179 - val_loss: 0.6055 - val_accuracy: 0.6948\n",
      "Epoch 165/300\n",
      "177/177 [==============================] - 0s 2ms/step - loss: 0.3986 - accuracy: 0.8177 - val_loss: 0.6228 - val_accuracy: 0.6735\n",
      "Epoch 166/300\n",
      "177/177 [==============================] - 0s 2ms/step - loss: 0.3986 - accuracy: 0.8193 - val_loss: 0.6188 - val_accuracy: 0.6891\n",
      "Epoch 167/300\n",
      "177/177 [==============================] - 0s 2ms/step - loss: 0.3986 - accuracy: 0.8177 - val_loss: 0.6232 - val_accuracy: 0.6806\n",
      "Epoch 168/300\n",
      "177/177 [==============================] - 0s 2ms/step - loss: 0.3984 - accuracy: 0.8180 - val_loss: 0.6082 - val_accuracy: 0.6941\n",
      "Epoch 169/300\n",
      "177/177 [==============================] - 0s 2ms/step - loss: 0.3982 - accuracy: 0.8191 - val_loss: 0.6299 - val_accuracy: 0.6721\n",
      "Epoch 170/300\n",
      "177/177 [==============================] - 0s 2ms/step - loss: 0.3982 - accuracy: 0.8180 - val_loss: 0.6134 - val_accuracy: 0.6898\n",
      "Epoch 171/300\n",
      "177/177 [==============================] - 0s 2ms/step - loss: 0.3980 - accuracy: 0.8182 - val_loss: 0.6228 - val_accuracy: 0.6820\n",
      "Epoch 172/300\n",
      "177/177 [==============================] - 0s 2ms/step - loss: 0.3979 - accuracy: 0.8179 - val_loss: 0.6153 - val_accuracy: 0.6933\n",
      "Epoch 173/300\n",
      "177/177 [==============================] - 0s 2ms/step - loss: 0.3979 - accuracy: 0.8179 - val_loss: 0.6318 - val_accuracy: 0.6700\n",
      "Epoch 174/300\n",
      "177/177 [==============================] - 0s 2ms/step - loss: 0.3977 - accuracy: 0.8198 - val_loss: 0.6303 - val_accuracy: 0.6707\n",
      "Epoch 175/300\n",
      "177/177 [==============================] - 0s 2ms/step - loss: 0.3976 - accuracy: 0.8168 - val_loss: 0.6099 - val_accuracy: 0.6898\n",
      "Epoch 176/300\n",
      "177/177 [==============================] - 0s 2ms/step - loss: 0.3973 - accuracy: 0.8198 - val_loss: 0.6403 - val_accuracy: 0.6636\n",
      "Epoch 177/300\n",
      "177/177 [==============================] - 0s 2ms/step - loss: 0.3975 - accuracy: 0.8173 - val_loss: 0.6353 - val_accuracy: 0.6678\n",
      "Epoch 178/300\n",
      "177/177 [==============================] - 0s 2ms/step - loss: 0.3970 - accuracy: 0.8198 - val_loss: 0.5943 - val_accuracy: 0.6990\n",
      "Epoch 179/300\n",
      "177/177 [==============================] - 0s 2ms/step - loss: 0.3972 - accuracy: 0.8186 - val_loss: 0.6090 - val_accuracy: 0.6933\n",
      "Epoch 180/300\n",
      "177/177 [==============================] - 0s 2ms/step - loss: 0.3970 - accuracy: 0.8172 - val_loss: 0.6032 - val_accuracy: 0.6969\n",
      "Epoch 181/300\n",
      "177/177 [==============================] - 0s 2ms/step - loss: 0.3971 - accuracy: 0.8200 - val_loss: 0.6008 - val_accuracy: 0.6962\n",
      "Epoch 182/300\n",
      "177/177 [==============================] - 0s 2ms/step - loss: 0.3968 - accuracy: 0.8170 - val_loss: 0.6384 - val_accuracy: 0.6671\n",
      "Epoch 183/300\n",
      "177/177 [==============================] - 0s 2ms/step - loss: 0.3967 - accuracy: 0.8193 - val_loss: 0.6092 - val_accuracy: 0.6926\n",
      "Epoch 184/300\n",
      "177/177 [==============================] - 0s 2ms/step - loss: 0.3968 - accuracy: 0.8168 - val_loss: 0.6120 - val_accuracy: 0.6926\n",
      "Epoch 185/300\n",
      "177/177 [==============================] - 0s 2ms/step - loss: 0.3964 - accuracy: 0.8195 - val_loss: 0.6245 - val_accuracy: 0.6693\n",
      "Epoch 186/300\n",
      "177/177 [==============================] - 0s 2ms/step - loss: 0.3963 - accuracy: 0.8212 - val_loss: 0.6411 - val_accuracy: 0.6657\n",
      "Epoch 187/300\n",
      "177/177 [==============================] - 0s 2ms/step - loss: 0.3965 - accuracy: 0.8196 - val_loss: 0.6139 - val_accuracy: 0.6912\n",
      "Epoch 188/300\n",
      "177/177 [==============================] - 0s 2ms/step - loss: 0.3963 - accuracy: 0.8186 - val_loss: 0.6259 - val_accuracy: 0.6778\n",
      "Epoch 189/300\n",
      "177/177 [==============================] - 0s 2ms/step - loss: 0.3963 - accuracy: 0.8191 - val_loss: 0.6222 - val_accuracy: 0.6785\n",
      "Epoch 190/300\n",
      "177/177 [==============================] - 0s 2ms/step - loss: 0.3959 - accuracy: 0.8198 - val_loss: 0.6078 - val_accuracy: 0.6933\n",
      "Epoch 191/300\n",
      "177/177 [==============================] - 0s 2ms/step - loss: 0.3959 - accuracy: 0.8198 - val_loss: 0.6312 - val_accuracy: 0.6664\n",
      "Epoch 192/300\n",
      "177/177 [==============================] - 0s 2ms/step - loss: 0.3958 - accuracy: 0.8193 - val_loss: 0.6133 - val_accuracy: 0.6870\n",
      "Epoch 193/300\n",
      "177/177 [==============================] - 0s 2ms/step - loss: 0.3957 - accuracy: 0.8195 - val_loss: 0.6237 - val_accuracy: 0.6785\n",
      "Epoch 194/300\n",
      "177/177 [==============================] - 0s 2ms/step - loss: 0.3956 - accuracy: 0.8200 - val_loss: 0.6046 - val_accuracy: 0.6933\n",
      "Epoch 195/300\n",
      "177/177 [==============================] - 0s 2ms/step - loss: 0.3955 - accuracy: 0.8198 - val_loss: 0.6088 - val_accuracy: 0.6919\n",
      "Epoch 196/300\n",
      "177/177 [==============================] - 0s 2ms/step - loss: 0.3955 - accuracy: 0.8195 - val_loss: 0.6235 - val_accuracy: 0.6785\n",
      "Epoch 197/300\n",
      "177/177 [==============================] - 0s 2ms/step - loss: 0.3952 - accuracy: 0.8212 - val_loss: 0.6198 - val_accuracy: 0.6841\n",
      "Epoch 198/300\n",
      "177/177 [==============================] - 0s 2ms/step - loss: 0.3954 - accuracy: 0.8189 - val_loss: 0.6256 - val_accuracy: 0.6693\n",
      "Epoch 199/300\n",
      "177/177 [==============================] - 0s 2ms/step - loss: 0.3950 - accuracy: 0.8209 - val_loss: 0.6283 - val_accuracy: 0.6686\n",
      "Epoch 200/300\n",
      "177/177 [==============================] - 0s 2ms/step - loss: 0.3951 - accuracy: 0.8182 - val_loss: 0.6375 - val_accuracy: 0.6636\n",
      "Epoch 201/300\n",
      "177/177 [==============================] - 0s 2ms/step - loss: 0.3951 - accuracy: 0.8186 - val_loss: 0.6227 - val_accuracy: 0.6806\n",
      "Epoch 202/300\n",
      "177/177 [==============================] - 0s 2ms/step - loss: 0.3948 - accuracy: 0.8175 - val_loss: 0.6177 - val_accuracy: 0.6827\n",
      "Epoch 203/300\n",
      "177/177 [==============================] - 0s 2ms/step - loss: 0.3946 - accuracy: 0.8200 - val_loss: 0.6083 - val_accuracy: 0.6898\n",
      "Epoch 204/300\n",
      "177/177 [==============================] - 0s 2ms/step - loss: 0.3949 - accuracy: 0.8189 - val_loss: 0.6281 - val_accuracy: 0.6657\n",
      "Epoch 205/300\n",
      "177/177 [==============================] - 0s 2ms/step - loss: 0.3945 - accuracy: 0.8196 - val_loss: 0.6225 - val_accuracy: 0.6714\n",
      "Epoch 206/300\n",
      "177/177 [==============================] - 0s 2ms/step - loss: 0.3945 - accuracy: 0.8172 - val_loss: 0.6297 - val_accuracy: 0.6650\n",
      "Epoch 207/300\n",
      "177/177 [==============================] - 0s 2ms/step - loss: 0.3943 - accuracy: 0.8189 - val_loss: 0.6458 - val_accuracy: 0.6615\n",
      "Epoch 208/300\n",
      "177/177 [==============================] - 0s 2ms/step - loss: 0.3944 - accuracy: 0.8200 - val_loss: 0.6433 - val_accuracy: 0.6629\n",
      "Epoch 209/300\n",
      "177/177 [==============================] - 0s 2ms/step - loss: 0.3941 - accuracy: 0.8200 - val_loss: 0.6396 - val_accuracy: 0.6629\n",
      "Epoch 210/300\n",
      "177/177 [==============================] - 0s 2ms/step - loss: 0.3940 - accuracy: 0.8203 - val_loss: 0.6225 - val_accuracy: 0.6721\n",
      "Epoch 211/300\n",
      "177/177 [==============================] - 0s 2ms/step - loss: 0.3940 - accuracy: 0.8189 - val_loss: 0.6182 - val_accuracy: 0.6778\n",
      "Epoch 212/300\n",
      "177/177 [==============================] - 0s 2ms/step - loss: 0.3939 - accuracy: 0.8195 - val_loss: 0.6479 - val_accuracy: 0.6622\n",
      "Epoch 213/300\n",
      "177/177 [==============================] - 0s 2ms/step - loss: 0.3938 - accuracy: 0.8186 - val_loss: 0.6317 - val_accuracy: 0.6650\n",
      "Epoch 214/300\n",
      "177/177 [==============================] - 0s 2ms/step - loss: 0.3936 - accuracy: 0.8202 - val_loss: 0.6388 - val_accuracy: 0.6636\n",
      "Epoch 215/300\n",
      "177/177 [==============================] - 0s 2ms/step - loss: 0.3936 - accuracy: 0.8202 - val_loss: 0.6222 - val_accuracy: 0.6735\n",
      "Epoch 216/300\n",
      "177/177 [==============================] - 0s 2ms/step - loss: 0.3934 - accuracy: 0.8198 - val_loss: 0.6133 - val_accuracy: 0.6870\n",
      "Epoch 217/300\n",
      "177/177 [==============================] - 0s 2ms/step - loss: 0.3934 - accuracy: 0.8203 - val_loss: 0.6266 - val_accuracy: 0.6657\n",
      "Epoch 218/300\n",
      "177/177 [==============================] - 0s 2ms/step - loss: 0.3932 - accuracy: 0.8191 - val_loss: 0.6307 - val_accuracy: 0.6657\n",
      "Epoch 219/300\n",
      "177/177 [==============================] - 0s 2ms/step - loss: 0.3931 - accuracy: 0.8184 - val_loss: 0.6382 - val_accuracy: 0.6643\n",
      "Epoch 220/300\n",
      "177/177 [==============================] - 0s 2ms/step - loss: 0.3931 - accuracy: 0.8193 - val_loss: 0.6289 - val_accuracy: 0.6664\n",
      "Epoch 221/300\n",
      "177/177 [==============================] - 0s 2ms/step - loss: 0.3929 - accuracy: 0.8195 - val_loss: 0.6348 - val_accuracy: 0.6643\n",
      "Epoch 222/300\n",
      "177/177 [==============================] - 0s 2ms/step - loss: 0.3928 - accuracy: 0.8182 - val_loss: 0.6401 - val_accuracy: 0.6643\n",
      "Epoch 223/300\n",
      "177/177 [==============================] - 0s 2ms/step - loss: 0.3928 - accuracy: 0.8205 - val_loss: 0.6212 - val_accuracy: 0.6742\n",
      "Epoch 224/300\n",
      "177/177 [==============================] - 0s 2ms/step - loss: 0.3925 - accuracy: 0.8205 - val_loss: 0.6486 - val_accuracy: 0.6629\n",
      "Epoch 225/300\n",
      "177/177 [==============================] - 0s 2ms/step - loss: 0.3926 - accuracy: 0.8182 - val_loss: 0.6263 - val_accuracy: 0.6714\n",
      "Epoch 226/300\n",
      "177/177 [==============================] - 0s 2ms/step - loss: 0.3925 - accuracy: 0.8214 - val_loss: 0.6352 - val_accuracy: 0.6650\n",
      "Epoch 227/300\n",
      "177/177 [==============================] - 0s 2ms/step - loss: 0.3923 - accuracy: 0.8218 - val_loss: 0.6419 - val_accuracy: 0.6650\n",
      "Epoch 228/300\n",
      "177/177 [==============================] - 0s 2ms/step - loss: 0.3923 - accuracy: 0.8193 - val_loss: 0.6413 - val_accuracy: 0.6650\n",
      "Epoch 229/300\n",
      "177/177 [==============================] - 0s 2ms/step - loss: 0.3921 - accuracy: 0.8207 - val_loss: 0.6482 - val_accuracy: 0.6608\n",
      "Epoch 230/300\n",
      "177/177 [==============================] - 0s 2ms/step - loss: 0.3921 - accuracy: 0.8189 - val_loss: 0.6294 - val_accuracy: 0.6707\n",
      "Epoch 231/300\n",
      "177/177 [==============================] - 0s 2ms/step - loss: 0.3920 - accuracy: 0.8207 - val_loss: 0.6255 - val_accuracy: 0.6742\n",
      "Epoch 232/300\n",
      "177/177 [==============================] - 0s 2ms/step - loss: 0.3919 - accuracy: 0.8186 - val_loss: 0.6110 - val_accuracy: 0.6898\n",
      "Epoch 233/300\n",
      "177/177 [==============================] - 0s 2ms/step - loss: 0.3918 - accuracy: 0.8202 - val_loss: 0.6427 - val_accuracy: 0.6650\n",
      "Epoch 234/300\n",
      "177/177 [==============================] - 0s 2ms/step - loss: 0.3916 - accuracy: 0.8205 - val_loss: 0.6431 - val_accuracy: 0.6650\n",
      "Epoch 235/300\n",
      "177/177 [==============================] - 0s 2ms/step - loss: 0.3916 - accuracy: 0.8203 - val_loss: 0.6394 - val_accuracy: 0.6650\n",
      "Epoch 236/300\n",
      "177/177 [==============================] - 0s 2ms/step - loss: 0.3915 - accuracy: 0.8205 - val_loss: 0.6282 - val_accuracy: 0.6735\n",
      "Epoch 237/300\n",
      "177/177 [==============================] - 0s 2ms/step - loss: 0.3914 - accuracy: 0.8209 - val_loss: 0.6214 - val_accuracy: 0.6771\n",
      "Epoch 238/300\n",
      "177/177 [==============================] - 0s 2ms/step - loss: 0.3912 - accuracy: 0.8221 - val_loss: 0.6337 - val_accuracy: 0.6728\n",
      "Epoch 239/300\n",
      "177/177 [==============================] - 0s 2ms/step - loss: 0.3911 - accuracy: 0.8209 - val_loss: 0.6368 - val_accuracy: 0.6693\n",
      "Epoch 240/300\n",
      "177/177 [==============================] - 0s 2ms/step - loss: 0.3909 - accuracy: 0.8210 - val_loss: 0.6537 - val_accuracy: 0.6601\n",
      "Epoch 241/300\n",
      "177/177 [==============================] - 0s 2ms/step - loss: 0.3910 - accuracy: 0.8189 - val_loss: 0.6559 - val_accuracy: 0.6579\n",
      "Epoch 242/300\n",
      "177/177 [==============================] - 0s 2ms/step - loss: 0.3909 - accuracy: 0.8210 - val_loss: 0.6282 - val_accuracy: 0.6735\n",
      "Epoch 243/300\n",
      "177/177 [==============================] - 0s 2ms/step - loss: 0.3909 - accuracy: 0.8223 - val_loss: 0.6430 - val_accuracy: 0.6678\n",
      "Epoch 244/300\n",
      "177/177 [==============================] - 0s 2ms/step - loss: 0.3905 - accuracy: 0.8218 - val_loss: 0.5994 - val_accuracy: 0.6919\n",
      "Epoch 245/300\n",
      "177/177 [==============================] - 0s 2ms/step - loss: 0.3902 - accuracy: 0.8235 - val_loss: 0.6689 - val_accuracy: 0.6537\n",
      "Epoch 246/300\n",
      "177/177 [==============================] - 0s 2ms/step - loss: 0.3906 - accuracy: 0.8196 - val_loss: 0.6260 - val_accuracy: 0.6742\n",
      "Epoch 247/300\n",
      "177/177 [==============================] - 0s 2ms/step - loss: 0.3904 - accuracy: 0.8200 - val_loss: 0.6379 - val_accuracy: 0.6700\n",
      "Epoch 248/300\n",
      "177/177 [==============================] - 0s 2ms/step - loss: 0.3902 - accuracy: 0.8202 - val_loss: 0.6266 - val_accuracy: 0.6763\n",
      "Epoch 249/300\n",
      "177/177 [==============================] - 0s 2ms/step - loss: 0.3902 - accuracy: 0.8225 - val_loss: 0.6402 - val_accuracy: 0.6650\n",
      "Epoch 250/300\n",
      "177/177 [==============================] - 0s 2ms/step - loss: 0.3901 - accuracy: 0.8218 - val_loss: 0.6415 - val_accuracy: 0.6671\n",
      "Epoch 251/300\n",
      "177/177 [==============================] - 0s 2ms/step - loss: 0.3901 - accuracy: 0.8195 - val_loss: 0.6137 - val_accuracy: 0.6884\n",
      "Epoch 252/300\n",
      "177/177 [==============================] - 0s 2ms/step - loss: 0.3898 - accuracy: 0.8207 - val_loss: 0.6243 - val_accuracy: 0.6763\n",
      "Epoch 253/300\n",
      "177/177 [==============================] - 0s 2ms/step - loss: 0.3897 - accuracy: 0.8221 - val_loss: 0.6464 - val_accuracy: 0.6657\n",
      "Epoch 254/300\n",
      "177/177 [==============================] - 0s 2ms/step - loss: 0.3897 - accuracy: 0.8226 - val_loss: 0.6258 - val_accuracy: 0.6763\n",
      "Epoch 255/300\n",
      "177/177 [==============================] - 0s 2ms/step - loss: 0.3898 - accuracy: 0.8223 - val_loss: 0.6303 - val_accuracy: 0.6756\n",
      "Epoch 256/300\n",
      "177/177 [==============================] - 0s 2ms/step - loss: 0.3897 - accuracy: 0.8219 - val_loss: 0.6323 - val_accuracy: 0.6749\n",
      "Epoch 257/300\n",
      "177/177 [==============================] - 0s 2ms/step - loss: 0.3896 - accuracy: 0.8225 - val_loss: 0.6399 - val_accuracy: 0.6693\n",
      "Epoch 258/300\n",
      "177/177 [==============================] - 0s 2ms/step - loss: 0.3894 - accuracy: 0.8223 - val_loss: 0.6469 - val_accuracy: 0.6671\n",
      "Epoch 259/300\n",
      "177/177 [==============================] - 0s 2ms/step - loss: 0.3892 - accuracy: 0.8225 - val_loss: 0.6275 - val_accuracy: 0.6756\n",
      "Epoch 260/300\n",
      "177/177 [==============================] - 0s 2ms/step - loss: 0.3892 - accuracy: 0.8234 - val_loss: 0.6460 - val_accuracy: 0.6657\n",
      "Epoch 261/300\n",
      "177/177 [==============================] - 0s 2ms/step - loss: 0.3892 - accuracy: 0.8212 - val_loss: 0.6492 - val_accuracy: 0.6657\n",
      "Epoch 262/300\n",
      "177/177 [==============================] - 0s 2ms/step - loss: 0.3891 - accuracy: 0.8218 - val_loss: 0.6142 - val_accuracy: 0.6884\n",
      "Epoch 263/300\n",
      "177/177 [==============================] - 0s 2ms/step - loss: 0.3888 - accuracy: 0.8218 - val_loss: 0.6289 - val_accuracy: 0.6756\n",
      "Epoch 264/300\n",
      "177/177 [==============================] - 0s 2ms/step - loss: 0.3888 - accuracy: 0.8226 - val_loss: 0.6379 - val_accuracy: 0.6693\n",
      "Epoch 265/300\n",
      "177/177 [==============================] - 0s 2ms/step - loss: 0.3887 - accuracy: 0.8228 - val_loss: 0.6429 - val_accuracy: 0.6693\n",
      "Epoch 266/300\n",
      "177/177 [==============================] - 0s 2ms/step - loss: 0.3886 - accuracy: 0.8244 - val_loss: 0.6259 - val_accuracy: 0.6763\n",
      "Epoch 267/300\n",
      "177/177 [==============================] - 0s 2ms/step - loss: 0.3884 - accuracy: 0.8251 - val_loss: 0.6116 - val_accuracy: 0.6870\n",
      "Epoch 268/300\n",
      "177/177 [==============================] - 0s 2ms/step - loss: 0.3884 - accuracy: 0.8232 - val_loss: 0.6590 - val_accuracy: 0.6629\n",
      "Epoch 269/300\n",
      "177/177 [==============================] - 0s 2ms/step - loss: 0.3884 - accuracy: 0.8207 - val_loss: 0.6507 - val_accuracy: 0.6657\n",
      "Epoch 270/300\n",
      "177/177 [==============================] - 0s 2ms/step - loss: 0.3884 - accuracy: 0.8230 - val_loss: 0.6472 - val_accuracy: 0.6657\n",
      "Epoch 271/300\n",
      "177/177 [==============================] - 0s 2ms/step - loss: 0.3881 - accuracy: 0.8234 - val_loss: 0.6265 - val_accuracy: 0.6763\n",
      "Epoch 272/300\n",
      "177/177 [==============================] - 0s 2ms/step - loss: 0.3884 - accuracy: 0.8246 - val_loss: 0.6367 - val_accuracy: 0.6728\n",
      "Epoch 273/300\n",
      "177/177 [==============================] - 0s 2ms/step - loss: 0.3880 - accuracy: 0.8226 - val_loss: 0.6366 - val_accuracy: 0.6735\n",
      "Epoch 274/300\n",
      "177/177 [==============================] - 0s 2ms/step - loss: 0.3879 - accuracy: 0.8239 - val_loss: 0.6250 - val_accuracy: 0.6848\n",
      "Epoch 275/300\n",
      "177/177 [==============================] - 0s 2ms/step - loss: 0.3879 - accuracy: 0.8218 - val_loss: 0.6449 - val_accuracy: 0.6707\n",
      "Epoch 276/300\n",
      "177/177 [==============================] - 0s 2ms/step - loss: 0.3878 - accuracy: 0.8235 - val_loss: 0.6367 - val_accuracy: 0.6714\n",
      "Epoch 277/300\n",
      "177/177 [==============================] - 0s 2ms/step - loss: 0.3877 - accuracy: 0.8237 - val_loss: 0.6489 - val_accuracy: 0.6693\n",
      "Epoch 278/300\n",
      "177/177 [==============================] - 0s 2ms/step - loss: 0.3875 - accuracy: 0.8235 - val_loss: 0.6266 - val_accuracy: 0.6856\n",
      "Epoch 279/300\n",
      "177/177 [==============================] - 0s 2ms/step - loss: 0.3875 - accuracy: 0.8239 - val_loss: 0.6312 - val_accuracy: 0.6778\n",
      "Epoch 280/300\n",
      "177/177 [==============================] - 0s 2ms/step - loss: 0.3873 - accuracy: 0.8248 - val_loss: 0.6550 - val_accuracy: 0.6650\n",
      "Epoch 281/300\n",
      "177/177 [==============================] - 0s 2ms/step - loss: 0.3874 - accuracy: 0.8221 - val_loss: 0.6495 - val_accuracy: 0.6664\n",
      "Epoch 282/300\n",
      "177/177 [==============================] - 0s 2ms/step - loss: 0.3873 - accuracy: 0.8230 - val_loss: 0.6601 - val_accuracy: 0.6629\n",
      "Epoch 283/300\n",
      "177/177 [==============================] - 0s 2ms/step - loss: 0.3871 - accuracy: 0.8221 - val_loss: 0.6309 - val_accuracy: 0.6778\n",
      "Epoch 284/300\n",
      "177/177 [==============================] - 0s 2ms/step - loss: 0.3870 - accuracy: 0.8234 - val_loss: 0.6273 - val_accuracy: 0.6785\n",
      "Epoch 285/300\n",
      "177/177 [==============================] - 0s 2ms/step - loss: 0.3872 - accuracy: 0.8230 - val_loss: 0.6429 - val_accuracy: 0.6707\n",
      "Epoch 286/300\n",
      "177/177 [==============================] - 0s 2ms/step - loss: 0.3869 - accuracy: 0.8235 - val_loss: 0.6383 - val_accuracy: 0.6721\n",
      "Epoch 287/300\n",
      "177/177 [==============================] - 0s 2ms/step - loss: 0.3869 - accuracy: 0.8235 - val_loss: 0.6266 - val_accuracy: 0.6792\n",
      "Epoch 288/300\n",
      "177/177 [==============================] - 0s 2ms/step - loss: 0.3865 - accuracy: 0.8244 - val_loss: 0.6598 - val_accuracy: 0.6636\n",
      "Epoch 289/300\n",
      "177/177 [==============================] - 0s 2ms/step - loss: 0.3865 - accuracy: 0.8246 - val_loss: 0.6431 - val_accuracy: 0.6721\n",
      "Epoch 290/300\n",
      "177/177 [==============================] - 0s 2ms/step - loss: 0.3868 - accuracy: 0.8251 - val_loss: 0.6462 - val_accuracy: 0.6728\n",
      "Epoch 291/300\n",
      "177/177 [==============================] - 0s 2ms/step - loss: 0.3864 - accuracy: 0.8244 - val_loss: 0.6180 - val_accuracy: 0.6877\n",
      "Epoch 292/300\n",
      "177/177 [==============================] - 0s 2ms/step - loss: 0.3863 - accuracy: 0.8226 - val_loss: 0.6377 - val_accuracy: 0.6728\n",
      "Epoch 293/300\n",
      "177/177 [==============================] - 0s 2ms/step - loss: 0.3864 - accuracy: 0.8242 - val_loss: 0.6366 - val_accuracy: 0.6735\n",
      "Epoch 294/300\n",
      "177/177 [==============================] - 0s 2ms/step - loss: 0.3862 - accuracy: 0.8255 - val_loss: 0.6424 - val_accuracy: 0.6721\n",
      "Epoch 295/300\n",
      "177/177 [==============================] - 0s 2ms/step - loss: 0.3861 - accuracy: 0.8239 - val_loss: 0.6212 - val_accuracy: 0.6870\n",
      "Epoch 296/300\n",
      "177/177 [==============================] - 0s 2ms/step - loss: 0.3861 - accuracy: 0.8237 - val_loss: 0.6299 - val_accuracy: 0.6749\n",
      "Epoch 297/300\n",
      "177/177 [==============================] - 0s 2ms/step - loss: 0.3861 - accuracy: 0.8242 - val_loss: 0.6493 - val_accuracy: 0.6707\n",
      "Epoch 298/300\n",
      "177/177 [==============================] - 0s 2ms/step - loss: 0.3859 - accuracy: 0.8234 - val_loss: 0.6234 - val_accuracy: 0.6870\n",
      "Epoch 299/300\n",
      "177/177 [==============================] - 0s 2ms/step - loss: 0.3860 - accuracy: 0.8246 - val_loss: 0.6506 - val_accuracy: 0.6707\n",
      "Epoch 300/300\n",
      "177/177 [==============================] - 0s 2ms/step - loss: 0.3858 - accuracy: 0.8242 - val_loss: 0.6464 - val_accuracy: 0.6707\n",
      "train time 125.73997919796966\n"
     ]
    }
   ],
   "source": [
    "t = perf_counter()\n",
    "history = model.fit(X_train, y_train, epochs=300, verbose=1, validation_split=0.2 )\n",
    "print(\"train time\", perf_counter()-t)"
   ]
  },
  {
   "cell_type": "code",
   "execution_count": 123,
   "metadata": {},
   "outputs": [
    {
     "name": "stdout",
     "output_type": "stream",
     "text": [
      "12058/12058 [==============================] - 17s 1ms/step - loss: 0.4285 - accuracy: 0.8584\n",
      "[0.42852702736854553, 0.8583858013153076]\n",
      "evaluation time 17.385134986019693\n"
     ]
    },
    {
     "data": {
      "text/plain": [
       "<Figure size 576x432 with 0 Axes>"
      ]
     },
     "metadata": {},
     "output_type": "display_data"
    },
    {
     "data": {
      "image/png": "[encoded data removed]",
      "text/plain": [
       "<Figure size 432x288 with 1 Axes>"
      ]
     },
     "metadata": {
      "needs_background": "light"
     },
     "output_type": "display_data"
    }
   ],
   "source": [
    "t = perf_counter()\n",
    "plot_loss_accuracy(history)\n",
    "y_train\n",
    "\n",
    "print(model.evaluate(X_test, y_test))\n",
    "print(\"evaluation time\", perf_counter()-t)"
   ]
  }
 ],
 "metadata": {
  "kernelspec": {
   "display_name": "Python 3",
   "language": "python",
   "name": "python3"
  },
  "language_info": {
   "codemirror_mode": {
    "name": "ipython",
    "version": 3
   },
   "file_extension": ".py",
   "mimetype": "text/x-python",
   "name": "python",
   "nbconvert_exporter": "python",
   "pygments_lexer": "ipython3",
   "version": "3.8.10"
  }
 },
 "nbformat": 4,
 "nbformat_minor": 2
}
